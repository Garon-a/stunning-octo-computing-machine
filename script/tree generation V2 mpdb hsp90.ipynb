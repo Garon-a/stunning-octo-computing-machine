{
 "cells": [
  {
   "cell_type": "code",
   "execution_count": 690,
   "metadata": {},
   "outputs": [],
   "source": [
    "import sys\n",
    "import time\n",
    "\n",
    "import CDPL.Base as Base\n",
    "import CDPL.Biomol as Biomol\n",
    "import CDPL.Chem as Chem\n",
    "import CDPL.Math as Math\n",
    "import CDPL.Pharm as Pharm\n",
    "import MDAnalysis\n",
    "import argparse\n",
    "import matplotlib\n",
    "import matplotlib.pylab as plt\n",
    "import numpy as np\n",
    "import os\n",
    "import pandas as pd\n",
    "import uuid\n",
    "import math\n",
    "\n",
    "import pickle\n",
    "import rdkit.Chem.AllChem as rdChem\n",
    "import scipy.stats\n",
    "from collections import defaultdict\n",
    "from mpl_toolkits.axes_grid1 import make_axes_locatable\n",
    "from rdkit.Chem.Draw import rdMolDraw2D\n",
    "\n",
    "import networkx as nx\n",
    "import visJS2jupyter.visJS_module\n",
    "import copy"
   ]
  },
  {
   "cell_type": "code",
   "execution_count": 717,
   "metadata": {
    "collapsed": true
   },
   "outputs": [],
   "source": [
    "def getGlobalPh4InteractionList(ph4_interaction_dictionary):\n",
    "    global_ph4_interaction_list = []\n",
    "    global_count = []\n",
    "\n",
    "    for dict_int in ph4_interaction_dictionary.values():\n",
    "        list_int_already_counted = []\n",
    "        for list_int in dict_int.values():\n",
    "            for tmp_int in list_int:\n",
    "                if 'HOH' not in tmp_int.env_residue:\n",
    "                    if sum(tmp_int == x for x in global_ph4_interaction_list) == 0:\n",
    "                        global_ph4_interaction_list.append(tmp_int)\n",
    "                        global_count.append(1)\n",
    "                        list_int_already_counted.append(tmp_int)\n",
    "\n",
    "                    elif sum(tmp_int == x for x in list_int_already_counted) == 0:\n",
    "                        global_count[global_ph4_interaction_list.index(tmp_int)] += 1\n",
    "                        list_int_already_counted.append(tmp_int)\n",
    "\n",
    "    tmp_list = [(global_ph4_interaction_list[x], global_count[x]) for x in range(len(global_ph4_interaction_list))]\n",
    "    return sorted(tmp_list, key=lambda k: (k[0].interaction_type, int(k[0].env_residue.split('_')[1])))\n",
    "\n",
    "\n",
    "def getPh4FingerprintDictionary(ph4_interaction_dictionary, global_ph4_interaction_list):\n",
    "    tmp_list = [x[0] for x in global_ph4_interaction_list]\n",
    "    global_ph4_fingerprint_dictionary = defaultdict(lambda:[0 for y in tmp_list])\n",
    "\n",
    "    for frame_number, dict_int in ph4_interaction_dictionary.items():\n",
    "        \n",
    "        print frame_number\n",
    "        #print dict_int\n",
    "        for list_int in dict_int.values():\n",
    "            #print list_int\n",
    "            for tmp_int in list_int:\n",
    "                #print tmp_int\n",
    "                if tmp_int in tmp_list:\n",
    "                    global_ph4_fingerprint_dictionary[frame_number][tmp_list.index(tmp_int)] = 1\n",
    "    return global_ph4_fingerprint_dictionary\n",
    "\n",
    "\n",
    "def getPh4TimeSeries(ph4_fingerprint_dictionary, global_ph4_interaction_list):\n",
    "    global_ph4_fingerprint_dictionary = {}\n",
    "    nb_int = len(global_ph4_interaction_list)\n",
    "    nb_frame = len(ph4_fingerprint_dictionary)\n",
    "\n",
    "    for i in range(nb_int):\n",
    "        global_ph4_fingerprint_dictionary[i] = [0]* nb_frame\n",
    "\n",
    "    for i in range(nb_int):\n",
    "        for j in range(nb_frame):\n",
    "            global_ph4_fingerprint_dictionary[i][j] = ph4_fingerprint_dictionary[j][i]\n",
    "\n",
    "    df = pd.DataFrame.from_dict(global_ph4_fingerprint_dictionary)\n",
    "    df.columns=[(x[0].interaction_type, x[0].env_residue, str(x[0].env_atom), x[0].lig_residue, str(x[0].lig_atom)) for x in global_ph4_interaction_list]\n",
    "\n",
    "    return [(global_ph4_interaction_list[x][0], global_ph4_interaction_list[x][1], global_ph4_fingerprint_dictionary[x]) for x in range(nb_int)], df\n",
    "\n",
    "\n",
    "class Ph4InteractionInformation(object):\n",
    "    def __init__(self, lig_feature, env_feature):\n",
    "        ftype_names = {Pharm.FeatureType.H_BOND_ACCEPTOR: 'HBA', Pharm.FeatureType.H_BOND_DONOR: 'HBD',\n",
    "                       Pharm.FeatureType.POS_IONIZABLE: 'PI', Pharm.FeatureType.NEG_IONIZABLE: 'NI',\n",
    "                       Pharm.FeatureType.AROMATIC: 'AR', Pharm.FeatureType.HYDROPHOBIC: 'H',\n",
    "                       Pharm.FeatureType.X_VOLUME: 'XV'}\n",
    "\n",
    "        lig_feature_type = ftype_names[Pharm.getType(lig_feature)]\n",
    "        lig_residue_code = Biomol.getResidueCode(Pharm.getSubstructure(lig_feature).atoms[0])\n",
    "        lig_residue_number = Biomol.getResidueSequenceNumber(Pharm.getSubstructure(lig_feature).atoms[0])\n",
    "        lig_residue_chain = Biomol.getChainID(Pharm.getSubstructure(lig_feature).atoms[0])\n",
    "\n",
    "        env_feature_type = ftype_names[Pharm.getType(env_feature)]\n",
    "        env_residue_code = Biomol.getResidueCode(Pharm.getSubstructure(env_feature).atoms[0])\n",
    "        env_residue_number = Biomol.getResidueSequenceNumber(Pharm.getSubstructure(env_feature).atoms[0])\n",
    "        env_residue_chain = Biomol.getChainID(Pharm.getSubstructure(env_feature).atoms[0])\n",
    "\n",
    "        self.interaction_type = '{}-{}'.format(lig_feature_type, env_feature_type)\n",
    "        self.lig_residue = '{}_{}_{}'.format(lig_residue_code, lig_residue_number, lig_residue_chain)\n",
    "        self.env_residue = '{}_{}_{}'.format(env_residue_code, env_residue_number, env_residue_chain)\n",
    "\n",
    "        atoms = []\n",
    "        for atom in Pharm.getSubstructure(lig_feature).atoms:\n",
    "            key_atom = '{}:{}'.format(Chem.getSymbol(atom), Biomol.getSerialNumber(atom))\n",
    "            atoms.append(key_atom)\n",
    "\n",
    "        self.lig_atom = sorted(atoms, key=lambda k: int(k.split(':')[1]))\n",
    "\n",
    "        atoms = []\n",
    "        for atom in Pharm.getSubstructure(env_feature).atoms:\n",
    "            key_atom = '{}:{}'.format(Chem.getSymbol(atom), Biomol.getSerialNumber(atom))\n",
    "            atoms.append(key_atom)\n",
    "\n",
    "        self.env_atom = sorted(atoms, key=lambda k: int(k.split(':')[1]))\n",
    "\n",
    "    def __str__(self):\n",
    "        txt = ''\n",
    "        for key in sorted(self.__dict__):\n",
    "            txt += '> {:<20}: {:<20}\\n'.format(key, self.__dict__[key])\n",
    "        return txt\n",
    "\n",
    "    def __eq__(self, other):\n",
    "        #return self.__dict__ == other.__dict__\n",
    "        return (self.interaction_type == other.interaction_type and self.env_residue[:-1] == other.env_residue[:-1])\n",
    "        #return self.env_residue[:-1] == other.env_residue[:-1]\n",
    "\n",
    "        #return (self.env_residue == other.env_residue)\n",
    "        #return (self.lig_residue[:-1] == other.lig_residue[:-1] and self.interaction_type == other.interaction_type and self.lig_atom == other.lig_atom)\n",
    "     \n",
    "    def __ne__(self, other):\n",
    "        return not self.__eq__(other)\n",
    "\n",
    "    def getInteractionType(self):\n",
    "        return self.interaction_type\n",
    "\n",
    "    def getLigand(self):\n",
    "        return [self.lig_residue, str(self.lig_atom)] if self.lig_atom is not None else [self.lig_residue]\n",
    "\n",
    "    def getEnvironment(self):\n",
    "        return [self.env_residue, str(self.env_atom)] if self.env_atom is not None else [self.env_residue]\n",
    "\n",
    "    \n",
    "    \n",
    "class ph4Node(object):\n",
    "    def __init__(self, fp, frames=None, index=None):\n",
    "        if index is not None:\n",
    "            self.index = [index]\n",
    "        else:\n",
    "            self.index = []\n",
    "\n",
    "        self.fingerprint = fp\n",
    "        self.interaction_count = sum(self.fingerprint)\n",
    "        if frames is None:\n",
    "            self.frames = None\n",
    "            self.appearance = None\n",
    "        else:\n",
    "            self.setFrames(frames)\n",
    "            \n",
    "        self.children = set()\n",
    "        self.parents = set()\n",
    "        \n",
    "    def setChild(self, child):\n",
    "        self.children.append(child)\n",
    "        \n",
    "    def setParent(self, parent):\n",
    "        self.parents.append(parent)\n",
    "        \n",
    "    def setFrames(self, frames):\n",
    "        self.frames = frames\n",
    "        self.setAppearance(len(self.frames))\n",
    "        \n",
    "    def setAppearance(self, appearance):\n",
    "        self.appearance = appearance\n",
    "        \n",
    "    def __eq__(self, other):\n",
    "        return self.fingerprint == other.fingerprint\n",
    "\n",
    "    def __ne__(self, other):\n",
    "        return not self.__eq__(other)\n",
    "    \n",
    "def getFPAncestor(node_1, node_2):\n",
    "    fp_1 = node_1.fingerprint\n",
    "    fp_2 = node_2.fingerprint\n",
    "    ancestor = tuple([1 if (fp_1[index] == 1 == fp_2[index]) else 0 for index in range(len(fp_1))])\n",
    "    return ancestor\n",
    "    #if ancestor != fp_1 and ancestor != fp_2:\n",
    "    #    return ancestor\n",
    "    #else:\n",
    "    #    return None\n",
    "\n",
    "def getTanimoto(node_1, node_2):\n",
    "    fp_1 = node_1.fingerprint\n",
    "    fp_2 = node_2.fingerprint\n",
    "    union = [1  if (value == 1 or fp_2[index] == 1) else 0 for index, value in enumerate(fp_1)]\n",
    "    intersect = [1 if (value == 1 == fp_2[index]) else 0 for index, value in enumerate(fp_1)]\n",
    "    return float(sum(intersect))/float(sum(union))\n",
    "\n",
    "def isParent(node_1, node_2):\n",
    "    fp_1 = node_1.fingerprint\n",
    "    fp_2 = node_2.fingerprint\n",
    "    return  sum(fp_1) == sum([1 if fp_1[i] == fp_2[i] == 1 else 0 for i in range(len(fp_1))])\n",
    "\n",
    "def getNodeAncestor(index_node_1, index_node_2, list_nodes):\n",
    "    fp_ancestor = getFPAncestor(list_nodes[index_node_1], list_nodes[index_node_2])\n",
    "    return [list_nodes.index(x) for x in list_nodes if x.fingerprint == fp_ancestor][0]\n",
    "\n",
    "def getFiliation(index, list_nodes):\n",
    "    filiation = gF(index, list_nodes)\n",
    "    filiation.remove(list_nodes[index].fingerprint)\n",
    "    return filiation\n",
    "\n",
    "def gF(index, list_nodes):\n",
    "    filiation = set()\n",
    "    for fp_child in list_nodes[index].children:\n",
    "        index_child = getIndexPool(fp_child, list_nodes)\n",
    "        filiation.update(gF(index_child, list_nodes))\n",
    "    \n",
    "    filiation.add(list_nodes[index].fingerprint)\n",
    "    return filiation\n",
    "\n",
    "\n",
    "def getIndexPool(fp, pool):\n",
    "    return [i for i,x in enumerate(pool) if x.fingerprint == fp][0]"
   ]
  },
  {
   "cell_type": "code",
   "execution_count": 718,
   "metadata": {
    "collapsed": true
   },
   "outputs": [],
   "source": [
    "#Ki(uM)\n",
    "affinity = {0:32.4, 1:2.6,2:6.1, 3:0.170, 4:0.088, 5:0.005, 6:0.012, 7:0.179, 8:0.004, 9:0.003, 10:0.69, 11:77, 12:320, 13:700}"
   ]
  },
  {
   "cell_type": "code",
   "execution_count": 719,
   "metadata": {
    "collapsed": true
   },
   "outputs": [],
   "source": [
    "name = '/home/agaron/tree/data/hsp90/4cwf_clean.gt'\n",
    "with open(name, 'r') as handle:\n",
    "    ph4_interaction_dictionary = pickle.load(handle)"
   ]
  },
  {
   "cell_type": "code",
   "execution_count": 720,
   "metadata": {
    "collapsed": true
   },
   "outputs": [],
   "source": [
    "name = '/home/agaron/tree/data/hsp90/4cwn_clean.gt'\n",
    "with open(name, 'r') as handle:\n",
    "    ph4_interaction_dictionary_pdb = pickle.load(handle)\n",
    "ph4_interaction_dictionary[max(ph4_interaction_dictionary.keys())+1] = copy.deepcopy(ph4_interaction_dictionary_pdb[0])   "
   ]
  },
  {
   "cell_type": "code",
   "execution_count": 721,
   "metadata": {
    "collapsed": true
   },
   "outputs": [],
   "source": [
    "name = '/home/agaron/tree/data/hsp90/4cwo_clean.gt'\n",
    "with open(name, 'r') as handle:\n",
    "    ph4_interaction_dictionary_pdb = pickle.load(handle)\n",
    "ph4_interaction_dictionary[max(ph4_interaction_dictionary.keys())+1] = copy.deepcopy(ph4_interaction_dictionary_pdb[0])   "
   ]
  },
  {
   "cell_type": "code",
   "execution_count": 722,
   "metadata": {
    "collapsed": true
   },
   "outputs": [],
   "source": [
    "name = '/home/agaron/tree/data/hsp90/4cwp_clean.gt'\n",
    "with open(name, 'r') as handle:\n",
    "    ph4_interaction_dictionary_pdb = pickle.load(handle)\n",
    "ph4_interaction_dictionary[max(ph4_interaction_dictionary.keys())+1] = copy.deepcopy(ph4_interaction_dictionary_pdb[0])   "
   ]
  },
  {
   "cell_type": "code",
   "execution_count": 723,
   "metadata": {
    "collapsed": true
   },
   "outputs": [],
   "source": [
    "name = '/home/agaron/tree/data/hsp90/4cwq_clean.gt'\n",
    "with open(name, 'r') as handle:\n",
    "    ph4_interaction_dictionary_pdb = pickle.load(handle)\n",
    "ph4_interaction_dictionary[max(ph4_interaction_dictionary.keys())+1] = copy.deepcopy(ph4_interaction_dictionary_pdb[0])   "
   ]
  },
  {
   "cell_type": "code",
   "execution_count": 724,
   "metadata": {
    "collapsed": true
   },
   "outputs": [],
   "source": [
    "name = '/home/agaron/tree/data/hsp90/4cwr_clean.gt'\n",
    "with open(name, 'r') as handle:\n",
    "    ph4_interaction_dictionary_pdb = pickle.load(handle)\n",
    "ph4_interaction_dictionary[max(ph4_interaction_dictionary.keys())+1] = copy.deepcopy(ph4_interaction_dictionary_pdb[0])   "
   ]
  },
  {
   "cell_type": "code",
   "execution_count": 725,
   "metadata": {
    "collapsed": true
   },
   "outputs": [],
   "source": [
    "name = '/home/agaron/tree/data/hsp90/4cws_clean.gt'\n",
    "with open(name, 'r') as handle:\n",
    "    ph4_interaction_dictionary_pdb = pickle.load(handle)\n",
    "ph4_interaction_dictionary[max(ph4_interaction_dictionary.keys())+1] = copy.deepcopy(ph4_interaction_dictionary_pdb[0])   "
   ]
  },
  {
   "cell_type": "code",
   "execution_count": 726,
   "metadata": {
    "collapsed": true
   },
   "outputs": [],
   "source": [
    "name = '/home/agaron/tree/data/hsp90/4cwt_clean.gt'\n",
    "with open(name, 'r') as handle:\n",
    "    ph4_interaction_dictionary_pdb = pickle.load(handle)\n",
    "ph4_interaction_dictionary[max(ph4_interaction_dictionary.keys())+1] = copy.deepcopy(ph4_interaction_dictionary_pdb[0])   "
   ]
  },
  {
   "cell_type": "code",
   "execution_count": null,
   "metadata": {
    "collapsed": true
   },
   "outputs": [],
   "source": []
  },
  {
   "cell_type": "code",
   "execution_count": 727,
   "metadata": {
    "collapsed": true
   },
   "outputs": [],
   "source": [
    "name = '/home/agaron/tree/data/hsp90/4nh7_clean.gt'\n",
    "with open(name, 'r') as handle:\n",
    "    ph4_interaction_dictionary_pdb = pickle.load(handle)\n",
    "ph4_interaction_dictionary[max(ph4_interaction_dictionary.keys())+1] = copy.deepcopy(ph4_interaction_dictionary_pdb[0])   "
   ]
  },
  {
   "cell_type": "code",
   "execution_count": 693,
   "metadata": {
    "collapsed": true
   },
   "outputs": [],
   "source": [
    "affinity = {0:0.004, 1:0.003, 2:0.69, 3:77, 4:320, 5:700}"
   ]
  },
  {
   "cell_type": "code",
   "execution_count": 694,
   "metadata": {
    "collapsed": true
   },
   "outputs": [],
   "source": [
    "name = '/home/agaron/tree/data/hsp90/4nh7_clean.gt'\n",
    "with open(name, 'r') as handle:\n",
    "    ph4_interaction_dictionary = pickle.load(handle)"
   ]
  },
  {
   "cell_type": "code",
   "execution_count": 728,
   "metadata": {
    "collapsed": true
   },
   "outputs": [],
   "source": [
    "name = '/home/agaron/tree/data/hsp90/4nh8_clean.gt'\n",
    "with open(name, 'r') as handle:\n",
    "    ph4_interaction_dictionary_pdb = pickle.load(handle)\n",
    "ph4_interaction_dictionary[max(ph4_interaction_dictionary.keys())+1] = copy.deepcopy(ph4_interaction_dictionary_pdb[0])   "
   ]
  },
  {
   "cell_type": "code",
   "execution_count": 729,
   "metadata": {
    "collapsed": true
   },
   "outputs": [],
   "source": [
    "name = '/home/agaron/tree/data/hsp90/4o04_clean.gt'\n",
    "with open(name, 'r') as handle:\n",
    "    ph4_interaction_dictionary_pdb = pickle.load(handle)\n",
    "ph4_interaction_dictionary[max(ph4_interaction_dictionary.keys())+1] = copy.deepcopy(ph4_interaction_dictionary_pdb[0])   "
   ]
  },
  {
   "cell_type": "code",
   "execution_count": 730,
   "metadata": {
    "collapsed": true
   },
   "outputs": [],
   "source": [
    "name = '/home/agaron/tree/data/hsp90/5fnc_clean.gt'\n",
    "with open(name, 'r') as handle:\n",
    "    ph4_interaction_dictionary_pdb = pickle.load(handle)\n",
    "ph4_interaction_dictionary[max(ph4_interaction_dictionary.keys())+1] = copy.deepcopy(ph4_interaction_dictionary_pdb[0])   "
   ]
  },
  {
   "cell_type": "code",
   "execution_count": 731,
   "metadata": {
    "collapsed": true
   },
   "outputs": [],
   "source": [
    "name = '/home/agaron/tree/data/hsp90/5fnd_clean.gt'\n",
    "with open(name, 'r') as handle:\n",
    "    ph4_interaction_dictionary_pdb = pickle.load(handle)\n",
    "ph4_interaction_dictionary[max(ph4_interaction_dictionary.keys())+1] = copy.deepcopy(ph4_interaction_dictionary_pdb[0])   "
   ]
  },
  {
   "cell_type": "code",
   "execution_count": 732,
   "metadata": {
    "collapsed": true
   },
   "outputs": [],
   "source": [
    "name = '/home/agaron/tree/data/hsp90/5fnf_clean.gt'\n",
    "with open(name, 'r') as handle:\n",
    "    ph4_interaction_dictionary_pdb = pickle.load(handle)\n",
    "ph4_interaction_dictionary[max(ph4_interaction_dictionary.keys())+1] = copy.deepcopy(ph4_interaction_dictionary_pdb[0])   "
   ]
  },
  {
   "cell_type": "code",
   "execution_count": null,
   "metadata": {
    "collapsed": true
   },
   "outputs": [],
   "source": []
  },
  {
   "cell_type": "code",
   "execution_count": 733,
   "metadata": {},
   "outputs": [
    {
     "name": "stdout",
     "output_type": "stream",
     "text": [
      "27\n",
      "0\n",
      "1\n",
      "2\n",
      "3\n",
      "4\n",
      "5\n",
      "6\n",
      "7\n",
      "8\n",
      "9\n",
      "10\n",
      "11\n",
      "12\n",
      "13\n"
     ]
    }
   ],
   "source": [
    "global_ph4_interaction_list = getGlobalPh4InteractionList(ph4_interaction_dictionary)\n",
    "print len(global_ph4_interaction_list)\n",
    "ph4_fingerprint_dict = getPh4FingerprintDictionary(ph4_interaction_dictionary, global_ph4_interaction_list)\n",
    "ph4_time_series = getPh4TimeSeries(ph4_fingerprint_dict, global_ph4_interaction_list)"
   ]
  },
  {
   "cell_type": "code",
   "execution_count": 734,
   "metadata": {
    "scrolled": true
   },
   "outputs": [
    {
     "name": "stdout",
     "output_type": "stream",
     "text": [
      "************\n",
      "H-H\n",
      "> env_atom            : ['C:2274', 'C:2275', 'C:2276', 'N:2277', 'C:2278']\n",
      "> env_residue         : TRP_162_A           \n",
      "> interaction_type    : H-H                 \n",
      "> lig_atom            : ['C:6560', 'C:6561', 'C:6562']\n",
      "> lig_residue         : LIG_5_A             \n",
      "\n",
      "> env_atom            : ['C:1890', 'C:1891', 'C:1892', 'C:1893', 'C:1894', 'C:1895']\n",
      "> env_residue         : PHE_138_A           \n",
      "> interaction_type    : H-H                 \n",
      "> lig_atom            : ['C:6560', 'C:6561', 'C:6562']\n",
      "> lig_residue         : LIG_5_A             \n",
      "\n",
      "> env_atom            : ['C:2276', 'C:2278', 'C:2279', 'C:2280', 'C:2281', 'C:2282']\n",
      "> env_residue         : TRP_162_A           \n",
      "> interaction_type    : H-H                 \n",
      "> lig_atom            : ['C:6560', 'C:6561', 'C:6562']\n",
      "> lig_residue         : LIG_5_A             \n",
      "\n",
      "> env_atom            : ['C:1392', 'C:1393', 'C:1394']\n",
      "> env_residue         : LEU_103_A           \n",
      "> interaction_type    : H-H                 \n",
      "> lig_atom            : ['C:6560', 'C:6561', 'C:6562']\n",
      "> lig_residue         : LIG_5_A             \n",
      "\n",
      "> env_atom            : ['C:1458', 'C:1459', 'C:1460']\n",
      "> env_residue         : LEU_107_A           \n",
      "> interaction_type    : H-H                 \n",
      "> lig_atom            : ['C:6560', 'C:6561', 'C:6562']\n",
      "> lig_residue         : LIG_5_A             \n",
      "\n",
      "> env_atom            : ['C:2084', 'C:2085', 'C:2086']\n",
      "> env_residue         : VAL_150_A           \n",
      "> interaction_type    : H-H                 \n",
      "> lig_atom            : ['C:6560', 'C:6561', 'C:6562']\n",
      "> lig_residue         : LIG_5_A             \n",
      "\n",
      "> env_atom            : ['C:1319']          \n",
      "> env_residue         : MET_98_A            \n",
      "> interaction_type    : H-H                 \n",
      "> lig_atom            : ['C:6560', 'C:6561', 'C:6562']\n",
      "> lig_residue         : LIG_5_A             \n",
      "\n",
      "> env_atom            : ['S:1318']          \n",
      "> env_residue         : MET_98_A            \n",
      "> interaction_type    : H-H                 \n",
      "> lig_atom            : ['C:6560', 'C:6561', 'C:6562']\n",
      "> lig_residue         : LIG_5_A             \n",
      "\n",
      "> env_atom            : ['C:1391']          \n",
      "> env_residue         : LEU_103_A           \n",
      "> interaction_type    : H-H                 \n",
      "> lig_atom            : ['C:6560', 'C:6561', 'C:6562']\n",
      "> lig_residue         : LIG_5_A             \n",
      "\n",
      "> env_atom            : ['C:1457']          \n",
      "> env_residue         : LEU_107_A           \n",
      "> interaction_type    : H-H                 \n",
      "> lig_atom            : ['C:6560', 'C:6561', 'C:6562']\n",
      "> lig_residue         : LIG_5_A             \n",
      "\n",
      "> env_atom            : ['C:1889']          \n",
      "> env_residue         : PHE_138_A           \n",
      "> interaction_type    : H-H                 \n",
      "> lig_atom            : ['C:6560', 'C:6561', 'C:6562']\n",
      "> lig_residue         : LIG_5_A             \n",
      "\n",
      "> env_atom            : ['C:2274', 'C:2275', 'C:2276', 'N:2277', 'C:2278']\n",
      "> env_residue         : TRP_162_A           \n",
      "> interaction_type    : H-H                 \n",
      "> lig_atom            : ['C:6552', 'C:6558', 'C:6559', 'C:6560']\n",
      "> lig_residue         : LIG_5_A             \n",
      "\n",
      "> env_atom            : ['C:1890', 'C:1891', 'C:1892', 'C:1893', 'C:1894', 'C:1895']\n",
      "> env_residue         : PHE_138_A           \n",
      "> interaction_type    : H-H                 \n",
      "> lig_atom            : ['C:6552', 'C:6558', 'C:6559', 'C:6560']\n",
      "> lig_residue         : LIG_5_A             \n",
      "\n",
      "> env_atom            : ['C:1910', 'C:1911', 'C:1912', 'C:1913', 'C:1914', 'C:1915']\n",
      "> env_residue         : TYR_139_A           \n",
      "> interaction_type    : H-H                 \n",
      "> lig_atom            : ['C:6552', 'C:6558', 'C:6559', 'C:6560']\n",
      "> lig_residue         : LIG_5_A             \n",
      "\n",
      "> env_atom            : ['C:2276', 'C:2278', 'C:2279', 'C:2280', 'C:2281', 'C:2282']\n",
      "> env_residue         : TRP_162_A           \n",
      "> interaction_type    : H-H                 \n",
      "> lig_atom            : ['C:6552', 'C:6558', 'C:6559', 'C:6560']\n",
      "> lig_residue         : LIG_5_A             \n",
      "\n",
      "> env_atom            : ['C:1458', 'C:1459', 'C:1460']\n",
      "> env_residue         : LEU_107_A           \n",
      "> interaction_type    : H-H                 \n",
      "> lig_atom            : ['C:6552', 'C:6558', 'C:6559', 'C:6560']\n",
      "> lig_residue         : LIG_5_A             \n",
      "\n",
      "> env_atom            : ['S:1318']          \n",
      "> env_residue         : MET_98_A            \n",
      "> interaction_type    : H-H                 \n",
      "> lig_atom            : ['C:6552', 'C:6558', 'C:6559', 'C:6560']\n",
      "> lig_residue         : LIG_5_A             \n",
      "\n",
      "> env_atom            : ['C:1457']          \n",
      "> env_residue         : LEU_107_A           \n",
      "> interaction_type    : H-H                 \n",
      "> lig_atom            : ['C:6552', 'C:6558', 'C:6559', 'C:6560']\n",
      "> lig_residue         : LIG_5_A             \n",
      "\n",
      "> env_atom            : ['C:1889']          \n",
      "> env_residue         : PHE_138_A           \n",
      "> interaction_type    : H-H                 \n",
      "> lig_atom            : ['C:6552', 'C:6558', 'C:6559', 'C:6560']\n",
      "> lig_residue         : LIG_5_A             \n",
      "\n",
      "> env_atom            : ['C:2274', 'C:2275', 'C:2276', 'N:2277', 'C:2278']\n",
      "> env_residue         : TRP_162_A           \n",
      "> interaction_type    : H-H                 \n",
      "> lig_atom            : ['C:6552', 'C:6557', 'C:6558', 'C:6560', 'C:6562']\n",
      "> lig_residue         : LIG_5_A             \n",
      "\n",
      "> env_atom            : ['C:1890', 'C:1891', 'C:1892', 'C:1893', 'C:1894', 'C:1895']\n",
      "> env_residue         : PHE_138_A           \n",
      "> interaction_type    : H-H                 \n",
      "> lig_atom            : ['C:6552', 'C:6557', 'C:6558', 'C:6560', 'C:6562']\n",
      "> lig_residue         : LIG_5_A             \n",
      "\n",
      "> env_atom            : ['C:2276', 'C:2278', 'C:2279', 'C:2280', 'C:2281', 'C:2282']\n",
      "> env_residue         : TRP_162_A           \n",
      "> interaction_type    : H-H                 \n",
      "> lig_atom            : ['C:6552', 'C:6557', 'C:6558', 'C:6560', 'C:6562']\n",
      "> lig_residue         : LIG_5_A             \n",
      "\n",
      "> env_atom            : ['C:1392', 'C:1393', 'C:1394']\n",
      "> env_residue         : LEU_103_A           \n",
      "> interaction_type    : H-H                 \n",
      "> lig_atom            : ['C:6552', 'C:6557', 'C:6558', 'C:6560', 'C:6562']\n",
      "> lig_residue         : LIG_5_A             \n",
      "\n",
      "> env_atom            : ['C:1458', 'C:1459', 'C:1460']\n",
      "> env_residue         : LEU_107_A           \n",
      "> interaction_type    : H-H                 \n",
      "> lig_atom            : ['C:6552', 'C:6557', 'C:6558', 'C:6560', 'C:6562']\n",
      "> lig_residue         : LIG_5_A             \n",
      "\n",
      "> env_atom            : ['C:2084', 'C:2085', 'C:2086']\n",
      "> env_residue         : VAL_150_A           \n",
      "> interaction_type    : H-H                 \n",
      "> lig_atom            : ['C:6552', 'C:6557', 'C:6558', 'C:6560', 'C:6562']\n",
      "> lig_residue         : LIG_5_A             \n",
      "\n",
      "> env_atom            : ['C:1319']          \n",
      "> env_residue         : MET_98_A            \n",
      "> interaction_type    : H-H                 \n",
      "> lig_atom            : ['C:6552', 'C:6557', 'C:6558', 'C:6560', 'C:6562']\n",
      "> lig_residue         : LIG_5_A             \n",
      "\n",
      "> env_atom            : ['S:1318']          \n",
      "> env_residue         : MET_98_A            \n",
      "> interaction_type    : H-H                 \n",
      "> lig_atom            : ['C:6552', 'C:6557', 'C:6558', 'C:6560', 'C:6562']\n",
      "> lig_residue         : LIG_5_A             \n",
      "\n",
      "> env_atom            : ['C:1317']          \n",
      "> env_residue         : MET_98_A            \n",
      "> interaction_type    : H-H                 \n",
      "> lig_atom            : ['C:6552', 'C:6557', 'C:6558', 'C:6560', 'C:6562']\n",
      "> lig_residue         : LIG_5_A             \n",
      "\n",
      "> env_atom            : ['C:1457']          \n",
      "> env_residue         : LEU_107_A           \n",
      "> interaction_type    : H-H                 \n",
      "> lig_atom            : ['C:6552', 'C:6557', 'C:6558', 'C:6560', 'C:6562']\n",
      "> lig_residue         : LIG_5_A             \n",
      "\n",
      "> env_atom            : ['C:1889']          \n",
      "> env_residue         : PHE_138_A           \n",
      "> interaction_type    : H-H                 \n",
      "> lig_atom            : ['C:6552', 'C:6557', 'C:6558', 'C:6560', 'C:6562']\n",
      "> lig_residue         : LIG_5_A             \n",
      "\n",
      "> env_atom            : ['C:1890', 'C:1891', 'C:1892', 'C:1893', 'C:1894', 'C:1895']\n",
      "> env_residue         : PHE_138_A           \n",
      "> interaction_type    : H-H                 \n",
      "> lig_atom            : ['C:6549', 'N:6550', 'C:6555', 'N:6556', 'C:6557', 'C:6558']\n",
      "> lig_residue         : LIG_5_A             \n",
      "\n",
      "> env_atom            : ['C:1458', 'C:1459', 'C:1460']\n",
      "> env_residue         : LEU_107_A           \n",
      "> interaction_type    : H-H                 \n",
      "> lig_atom            : ['C:6549', 'N:6550', 'C:6555', 'N:6556', 'C:6557', 'C:6558']\n",
      "> lig_residue         : LIG_5_A             \n",
      "\n",
      "> env_atom            : ['C:1319']          \n",
      "> env_residue         : MET_98_A            \n",
      "> interaction_type    : H-H                 \n",
      "> lig_atom            : ['C:6549', 'N:6550', 'C:6555', 'N:6556', 'C:6557', 'C:6558']\n",
      "> lig_residue         : LIG_5_A             \n",
      "\n",
      "> env_atom            : ['S:1318']          \n",
      "> env_residue         : MET_98_A            \n",
      "> interaction_type    : H-H                 \n",
      "> lig_atom            : ['C:6549', 'N:6550', 'C:6555', 'N:6556', 'C:6557', 'C:6558']\n",
      "> lig_residue         : LIG_5_A             \n",
      "\n",
      "> env_atom            : ['C:1457']          \n",
      "> env_residue         : LEU_107_A           \n",
      "> interaction_type    : H-H                 \n",
      "> lig_atom            : ['C:6549', 'N:6550', 'C:6555', 'N:6556', 'C:6557', 'C:6558']\n",
      "> lig_residue         : LIG_5_A             \n",
      "\n",
      "> env_atom            : ['C:1889']          \n",
      "> env_residue         : PHE_138_A           \n",
      "> interaction_type    : H-H                 \n",
      "> lig_atom            : ['C:6549', 'N:6550', 'C:6555', 'N:6556', 'C:6557', 'C:6558']\n",
      "> lig_residue         : LIG_5_A             \n",
      "\n",
      "************\n",
      "PI-AR\n",
      "> env_atom            : ['C:1890', 'C:1891', 'C:1892', 'C:1893', 'C:1894', 'C:1895']\n",
      "> env_residue         : PHE_138_A           \n",
      "> interaction_type    : PI-AR               \n",
      "> lig_atom            : ['N:6553']          \n",
      "> lig_residue         : LIG_5_A             \n",
      "\n",
      "> env_atom            : ['C:1910', 'C:1911', 'C:1912', 'C:1913', 'C:1914', 'C:1915']\n",
      "> env_residue         : TYR_139_A           \n",
      "> interaction_type    : PI-AR               \n",
      "> lig_atom            : ['N:6553']          \n",
      "> lig_residue         : LIG_5_A             \n",
      "\n"
     ]
    }
   ],
   "source": [
    "for x,y in ph4_interaction_dictionary[0].items():\n",
    "    print '************'\n",
    "    print x\n",
    "    for z in y:\n",
    "        print z"
   ]
  },
  {
   "cell_type": "code",
   "execution_count": 735,
   "metadata": {
    "collapsed": true
   },
   "outputs": [],
   "source": [
    "counts = dict()\n",
    "for index, value in enumerate([tuple(x) for x in ph4_fingerprint_dict.values()]):\n",
    "    if value in counts.keys():\n",
    "        counts[value].append(index)\n",
    "    else:\n",
    "        counts[value] = [index]"
   ]
  },
  {
   "cell_type": "code",
   "execution_count": 736,
   "metadata": {
    "scrolled": true
   },
   "outputs": [
    {
     "data": {
      "text/plain": [
       "14"
      ]
     },
     "execution_count": 736,
     "metadata": {},
     "output_type": "execute_result"
    }
   ],
   "source": [
    "tmp_fp = [(x,y) for x,y in counts.items() if len(y)>0 or x == tuple(ph4_fingerprint_dict[max(ph4_fingerprint_dict.keys())])]\n",
    "len(tmp_fp)"
   ]
  },
  {
   "cell_type": "code",
   "execution_count": null,
   "metadata": {
    "collapsed": true
   },
   "outputs": [],
   "source": []
  },
  {
   "cell_type": "code",
   "execution_count": 737,
   "metadata": {
    "collapsed": true
   },
   "outputs": [],
   "source": [
    "pool = sorted([ph4Node(x[0], x[1]) for x in tmp_fp], key=lambda k: k.interaction_count, reverse=True)"
   ]
  },
  {
   "cell_type": "code",
   "execution_count": 267,
   "metadata": {
    "scrolled": true
   },
   "outputs": [
    {
     "name": "stdout",
     "output_type": "stream",
     "text": [
      "> Main_pool: 82\n"
     ]
    }
   ],
   "source": [
    "main_pool = []\n",
    "current_pool = copy.deepcopy(pool)\n",
    "\n",
    "while len(current_pool)>0:\n",
    "    current_node = current_pool[0]\n",
    "    current_pool.pop(0)\n",
    "\n",
    "    for node_pool in current_pool:\n",
    "        fp_ancestor = getFPAncestor(current_node, node_pool) \n",
    "        if fp_ancestor != current_node.fingerprint and fp_ancestor != node_pool.fingerprint:\n",
    "            if fp_ancestor in [x.fingerprint for x in main_pool]:\n",
    "                node_ancestor = [x for x in main_pool if x.fingerprint == fp_ancestor][0]\n",
    "                main_pool[main_pool.index(node_ancestor)].children.add(current_node.fingerprint)\n",
    "                main_pool[main_pool.index(node_ancestor)].children.add(node_pool.fingerprint)\n",
    "            else:\n",
    "                if fp_ancestor not in [x.fingerprint for x in current_pool]:\n",
    "                    current_pool.append(ph4Node(fp_ancestor))\n",
    "\n",
    "                node_ancestor = [x for x in current_pool if x.fingerprint == fp_ancestor][0] \n",
    "                current_pool[current_pool.index(node_ancestor)].children.add(current_node.fingerprint)\n",
    "                current_pool[current_pool.index(node_ancestor)].children.add(node_pool.fingerprint)\n",
    "                \n",
    "            current_node.parents.add(fp_ancestor)\n",
    "            node_pool.parents.add(fp_ancestor)\n",
    "            \n",
    "        elif fp_ancestor == current_node.fingerprint:\n",
    "            current_node.children.add(node_pool.fingerprint)\n",
    "            node_pool.parents.add(fp_ancestor)\n",
    "        elif fp_ancestor == node_pool.fingerprint:\n",
    "            node_pool.children.add(current_node.fingerprint)\n",
    "            current_node.parents.add(fp_ancestor)\n",
    "        else:\n",
    "            print \"> Already there\"\n",
    "\n",
    "            \n",
    "            \n",
    "    main_pool.append(current_node)\n",
    "    \n",
    "print('> Main_pool: {}'.format(len(main_pool)))"
   ]
  },
  {
   "cell_type": "code",
   "execution_count": 739,
   "metadata": {
    "scrolled": true
   },
   "outputs": [
    {
     "name": "stdout",
     "output_type": "stream",
     "text": [
      "14\n",
      "> Already there\n",
      "> Already there\n",
      "> Already there\n",
      "> Already there\n",
      "> Already there\n",
      "> Already there\n",
      "> Already there\n",
      "> Already there\n",
      "> Already there\n",
      "> Already there\n",
      "> Already there\n",
      "> Already there\n",
      "> Already there\n",
      "13\n",
      "> Already there\n",
      "> Already there\n",
      "> Already there\n",
      "> Already there\n",
      "> Already there\n",
      "> Already there\n",
      "> Already there\n",
      "> Already there\n",
      "> Already there\n",
      "> Already there\n",
      "> Already there\n",
      "> Already there\n",
      "12\n",
      "> Already there\n",
      "> Already there\n",
      "> Already there\n",
      "> Already there\n",
      "> Already there\n",
      "> Already there\n",
      "> Already there\n",
      "> Already there\n",
      "> Already there\n",
      "11\n",
      "> Already there\n",
      "> Already there\n",
      "> Already there\n",
      "> Already there\n",
      "> Already there\n",
      "> Already there\n",
      "> Already there\n",
      "> Already there\n",
      "> Already there\n",
      "> Already there\n",
      "10\n",
      "> Already there\n",
      "> Already there\n",
      "> Already there\n",
      "> Already there\n",
      "> Already there\n",
      "> Already there\n",
      "> Already there\n",
      "> Already there\n",
      "> Already there\n",
      "9\n",
      "> Already there\n",
      "> Already there\n",
      "> Already there\n",
      "> Already there\n",
      "> Already there\n",
      "> Already there\n",
      "> Already there\n",
      "> Already there\n",
      "8\n",
      "> Already there\n",
      "> Already there\n",
      "> Already there\n",
      "> Already there\n",
      "> Already there\n",
      "> Already there\n",
      "> Already there\n",
      "7\n",
      "> Already there\n",
      "> Already there\n",
      "> Already there\n",
      "> Already there\n",
      "> Already there\n",
      "6\n",
      "> Already there\n",
      "> Already there\n",
      "> Already there\n",
      "> Already there\n",
      "> Already there\n",
      "5\n",
      "> Already there\n",
      "> Already there\n",
      "> Already there\n",
      "> Already there\n",
      "4\n",
      "> Already there\n",
      "> Already there\n",
      "> Already there\n",
      "3\n",
      "> Already there\n",
      "> Already there\n",
      "2\n",
      "> Already there\n",
      "1\n"
     ]
    }
   ],
   "source": [
    "main_pool = []\n",
    "current_pool = copy.deepcopy(pool)\n",
    "\n",
    "while len(current_pool)>0:\n",
    "    print len(current_pool)\n",
    "    current_node = current_pool[0]\n",
    "    current_pool.pop(0)\n",
    "\n",
    "    for node_pool in current_pool:\n",
    "        fp_ancestor = getFPAncestor(current_node, node_pool) \n",
    "            \n",
    "        if fp_ancestor == current_node.fingerprint:\n",
    "            current_node.children.add(node_pool.fingerprint)\n",
    "            node_pool.parents.add(fp_ancestor)\n",
    "        if fp_ancestor == node_pool.fingerprint:\n",
    "            node_pool.children.add(current_node.fingerprint)\n",
    "            current_node.parents.add(fp_ancestor)\n",
    "        else:\n",
    "            print \"> Already there\"\n",
    "\n",
    "            \n",
    "            \n",
    "    main_pool.append(current_node)\n",
    "    \n"
   ]
  },
  {
   "cell_type": "code",
   "execution_count": 740,
   "metadata": {
    "scrolled": true
   },
   "outputs": [
    {
     "name": "stdout",
     "output_type": "stream",
     "text": [
      "\n",
      "0\n",
      "0\n",
      "0\n",
      "\n",
      "1\n",
      "0\n",
      "0\n",
      "\n",
      "2\n",
      "0\n",
      "0\n",
      "\n",
      "3\n",
      "0\n",
      "0\n",
      "\n",
      "4\n",
      "0\n",
      "0\n",
      "\n",
      "5\n",
      "0\n",
      "0\n",
      "\n",
      "6\n",
      "0\n",
      "0\n",
      "\n",
      "7\n",
      "1\n",
      "1\n",
      "\n",
      "8\n",
      "0\n",
      "0\n",
      "\n",
      "9\n",
      "0\n",
      "0\n",
      "\n",
      "10\n",
      "0\n",
      "0\n",
      "\n",
      "11\n",
      "2\n",
      "1\n",
      "\n",
      "12\n",
      "0\n",
      "0\n",
      "\n",
      "13\n",
      "0\n",
      "0\n"
     ]
    }
   ],
   "source": [
    "filiation_list = {}\n",
    "for node in sorted(main_pool, key=lambda k: k.interaction_count, reverse=True):\n",
    "    print\n",
    "    print main_pool.index(node)\n",
    "    print len(main_pool[main_pool.index(node)].children)\n",
    "    \n",
    "    current_children = sorted(node.children, key=lambda k: sum(k))\n",
    "    new_children = copy.deepcopy(current_children)\n",
    "    \n",
    "    while len(current_children) > 0:\n",
    "        current_child = current_children[0]\n",
    "        current_children.pop(0)\n",
    "        index_current_child = getIndexPool(current_child, main_pool)\n",
    "        filiation = getFiliation(index_current_child, main_pool)\n",
    "        for child in current_children:\n",
    "            if child in filiation and child in new_children:\n",
    "                new_children.remove(child)\n",
    "                \n",
    "    filiation_list[main_pool.index(node)] = getFiliation(main_pool.index(node), main_pool)\n",
    "    main_pool[main_pool.index(node)].children = new_children\n",
    "    print len(main_pool[main_pool.index(node)].children)"
   ]
  },
  {
   "cell_type": "code",
   "execution_count": 741,
   "metadata": {},
   "outputs": [
    {
     "name": "stdout",
     "output_type": "stream",
     "text": [
      "[6, 8, 9, 10, 11, 13, 15]\n"
     ]
    }
   ],
   "source": [
    "hierarchical_pool = main_pool\n",
    "DG=nx.DiGraph()\n",
    "labels = {}\n",
    "\n",
    "for i, node in enumerate(hierarchical_pool):\n",
    "    DG.add_node(i,fingerprint = node.fingerprint, level=node.interaction_count, index = i)\n",
    "\n",
    "for i, node in enumerate(hierarchical_pool):\n",
    "        for fp_child in node.children:\n",
    "            DG.add_edges_from([(i, getIndexPool(fp_child, hierarchical_pool))])\n",
    "\n",
    "levels = sorted(list(set(x.interaction_count for x in main_pool)))\n",
    "print levels\n",
    "for level in levels:\n",
    "    DG.add_node('Number of features: '+str(level), level= level, index= 'Number of features: '+str(level))\n",
    "\n",
    "\n",
    "for index_level in range(len(levels)-1):\n",
    "    DG.add_edge('Number of features: '+str(levels[index_level]), 'Number of features: '+str(levels[index_level+1]), penwidth = int(levels[index_level+1] - levels[index_level]))\n"
   ]
  },
  {
   "cell_type": "code",
   "execution_count": 742,
   "metadata": {
    "collapsed": true
   },
   "outputs": [],
   "source": [
    "A = nx.nx_agraph.to_agraph(DG)\n",
    "\n",
    "A.layout( args='-Nfontsize=10 -Nwidth=\"1.2\" -Nheight=\"1.2\" -Nmargin=0 -Gfontsize=8')\n",
    "#A.draw('test7.svg')"
   ]
  },
  {
   "cell_type": "code",
   "execution_count": 743,
   "metadata": {},
   "outputs": [
    {
     "name": "stdout",
     "output_type": "stream",
     "text": [
      "['13', 'Number of features: 6']\n",
      "[]\n",
      "['9', '10', '11', '12', 'Number of features: 8']\n",
      "['7', '8', 'Number of features: 9']\n",
      "['6', 'Number of features: 10']\n",
      "['2', '3', '4', '5', 'Number of features: 11']\n",
      "[]\n",
      "['1', 'Number of features: 13']\n",
      "[]\n",
      "['0', 'Number of features: 15']\n"
     ]
    }
   ],
   "source": [
    "\n",
    "for level in range(min(levels), max(levels)+1):\n",
    "    #print [str(x.attr['index']) for x in A.nodes_iter() if int(x.attr['level']) == level]\n",
    "    tmp_nodes = [str(x.attr['index']) for x in A.nodes_iter() if int(x.attr['level']) == level]\n",
    "    print tmp_nodes\n",
    "    if len(tmp_nodes)>1:\n",
    "        A.add_subgraph(tmp_nodes, rank='same', newrank= True)"
   ]
  },
  {
   "cell_type": "code",
   "execution_count": 744,
   "metadata": {
    "scrolled": true
   },
   "outputs": [
    {
     "name": "stdout",
     "output_type": "stream",
     "text": [
      "0\n",
      "1\n",
      "2\n",
      "3\n",
      "4\n",
      "5\n",
      "6\n",
      "7\n",
      "8\n",
      "9\n",
      "10\n",
      "11\n",
      "12\n",
      "13\n",
      "Number of features: 10\n",
      "Number of features: 11\n",
      "Number of features: 13\n",
      "Number of features: 15\n",
      "Number of features: 6\n",
      "Number of features: 8\n",
      "Number of features: 9\n"
     ]
    }
   ],
   "source": [
    "for node in A.nodes_iter():\n",
    "    node_index = node.attr['index']\n",
    "    print node_index\n",
    "    if 'Number of features: ' not in node_index:\n",
    "        node_index = int(node_index)\n",
    "        tmp_appearance = sum(filter(None,[x.appearance for x in main_pool if x.fingerprint in filiation_list[node_index]]))\n",
    "\n",
    "        if main_pool[node_index].appearance is not None:\n",
    "            tmp_appearance += main_pool[node_index].appearance\n",
    "        if main_pool[node_index].frames != None:\n",
    "            node.attr['label'] = 'Frames: {}\\nID: {}\\nNumber of features: {}\\nCumulative Appearance: {}\\n Appearance: {}\\n Ki(uM): {}'.format(main_pool[node_index].frames, node_index, main_pool[node_index].interaction_count, tmp_appearance, main_pool[node_index].appearance, [affinity[x] for x in main_pool[node_index].frames])\n",
    "        else:\n",
    "            node.attr['label'] = 'Frames: {}\\nID: {}\\nNumber of features: {}\\nCumulative Appearance: {}\\n Appearance: {}'.format(main_pool[node_index].frames, node_index, main_pool[node_index].interaction_count, tmp_appearance, main_pool[node_index].appearance)\n",
    "        index_observed_fp = [getIndexPool(x[0], main_pool) for x in tmp_fp]\n",
    "        if node_index in index_observed_fp:\n",
    "            node.attr['color'] = 'green'\n",
    "\n",
    "        #if main_pool[node_index].fingerprint == tuple(ph4_fingerprint_dict[max(ph4_fingerprint_dict.keys())]):\n",
    "        #    node.attr['color'] = 'red'\n",
    "        \n",
    "    else:\n",
    "        node.attr['height'] =0,\n",
    "        node.attr['width'] =0,\n",
    "        node.attr['margin'] =0\n",
    "\n",
    "#for edge in A.edges_iter():\n",
    "#    if 'Number of features: ' in edge[0].attr['index']:\n",
    "#        print max(levels) - (main_pool[int(edge[1].attr['index'])].interaction_count - main_pool[int(edge[0].attr['index'])].interaction_count)\n",
    "#        edge.attr['penwidth'] = max(levels) - (main_pool[int(edge[1].attr['index'])].interaction_count - main_pool[int(edge[0].attr['index'])].interaction_count)\n",
    "       "
   ]
  },
  {
   "cell_type": "code",
   "execution_count": 745,
   "metadata": {
    "scrolled": false
   },
   "outputs": [
    {
     "data": {
      "image/svg+xml": [
       "<svg height=\"937pt\" viewBox=\"0.00 0.00 1289.58 936.76\" width=\"1290pt\" xmlns=\"http://www.w3.org/2000/svg\" xmlns:xlink=\"http://www.w3.org/1999/xlink\">\n",
       "<g class=\"graph\" id=\"graph0\" transform=\"scale(1 1) rotate(0) translate(4 932.764)\">\n",
       "<title>%3</title>\n",
       "<polygon fill=\"white\" points=\"-4,4 -4,-932.764 1285.58,-932.764 1285.58,4 -4,4\" stroke=\"none\"/>\n",
       "<!-- 13 -->\n",
       "<g class=\"node\" id=\"node1\"><title>13</title>\n",
       "<ellipse cx=\"75.7912\" cy=\"-877.852\" fill=\"none\" rx=\"75.5831\" ry=\"50.8235\" stroke=\"green\"/>\n",
       "<text font-family=\"Times,serif\" font-size=\"10.00\" text-anchor=\"middle\" x=\"75.7912\" y=\"-904.852\">Frames: [13]</text>\n",
       "<text font-family=\"Times,serif\" font-size=\"10.00\" text-anchor=\"middle\" x=\"75.7912\" y=\"-892.852\">ID: 13</text>\n",
       "<text font-family=\"Times,serif\" font-size=\"10.00\" text-anchor=\"middle\" x=\"75.7912\" y=\"-880.852\">Number of features: 6</text>\n",
       "<text font-family=\"Times,serif\" font-size=\"10.00\" text-anchor=\"middle\" x=\"75.7912\" y=\"-868.852\">Cumulative Appearance: 1</text>\n",
       "<text font-family=\"Times,serif\" font-size=\"10.00\" text-anchor=\"middle\" x=\"75.7912\" y=\"-856.852\"> Appearance: 1</text>\n",
       "<text font-family=\"Times,serif\" font-size=\"10.00\" text-anchor=\"middle\" x=\"75.7912\" y=\"-844.852\"> Ki(uM): [700]</text>\n",
       "</g>\n",
       "<!-- Number of features: 6 -->\n",
       "<g class=\"node\" id=\"node2\"><title>Number of features: 6</title>\n",
       "<ellipse cx=\"215.791\" cy=\"-877.852\" fill=\"none\" rx=\"46.8568\" ry=\"18\" stroke=\"black\"/>\n",
       "<text font-family=\"Times,serif\" font-size=\"10.00\" text-anchor=\"middle\" x=\"215.791\" y=\"-874.852\">Number of features: 6</text>\n",
       "</g>\n",
       "<!-- Number of features: 8 -->\n",
       "<g class=\"node\" id=\"node7\"><title>Number of features: 8</title>\n",
       "<ellipse cx=\"215.791\" cy=\"-740.029\" fill=\"none\" rx=\"46.8568\" ry=\"18\" stroke=\"black\"/>\n",
       "<text font-family=\"Times,serif\" font-size=\"10.00\" text-anchor=\"middle\" x=\"215.791\" y=\"-737.029\">Number of features: 8</text>\n",
       "</g>\n",
       "<!-- Number of features: 6&#45;&gt;Number of features: 8 -->\n",
       "<g class=\"edge\" id=\"edge6\"><title>Number of features: 6-&gt;Number of features: 8</title>\n",
       "<path d=\"M215.791,-859.65C215.791,-836.585 215.791,-795.39 215.791,-768.134\" fill=\"none\" stroke=\"black\" stroke-width=\"2\"/>\n",
       "<polygon fill=\"black\" points=\"219.291,-768.091 215.791,-758.091 212.291,-768.091 219.291,-768.091\" stroke=\"black\" stroke-width=\"2\"/>\n",
       "</g>\n",
       "<!-- 9 -->\n",
       "<g class=\"node\" id=\"node3\"><title>9</title>\n",
       "<ellipse cx=\"355.791\" cy=\"-740.029\" fill=\"none\" rx=\"75.5831\" ry=\"50.8235\" stroke=\"green\"/>\n",
       "<text font-family=\"Times,serif\" font-size=\"10.00\" text-anchor=\"middle\" x=\"355.791\" y=\"-767.029\">Frames: [10]</text>\n",
       "<text font-family=\"Times,serif\" font-size=\"10.00\" text-anchor=\"middle\" x=\"355.791\" y=\"-755.029\">ID: 9</text>\n",
       "<text font-family=\"Times,serif\" font-size=\"10.00\" text-anchor=\"middle\" x=\"355.791\" y=\"-743.029\">Number of features: 8</text>\n",
       "<text font-family=\"Times,serif\" font-size=\"10.00\" text-anchor=\"middle\" x=\"355.791\" y=\"-731.029\">Cumulative Appearance: 1</text>\n",
       "<text font-family=\"Times,serif\" font-size=\"10.00\" text-anchor=\"middle\" x=\"355.791\" y=\"-719.029\"> Appearance: 1</text>\n",
       "<text font-family=\"Times,serif\" font-size=\"10.00\" text-anchor=\"middle\" x=\"355.791\" y=\"-707.029\"> Ki(uM): [0.69]</text>\n",
       "</g>\n",
       "<!-- 10 -->\n",
       "<g class=\"node\" id=\"node4\"><title>10</title>\n",
       "<ellipse cx=\"525.791\" cy=\"-740.029\" fill=\"none\" rx=\"75.5831\" ry=\"50.8235\" stroke=\"green\"/>\n",
       "<text font-family=\"Times,serif\" font-size=\"10.00\" text-anchor=\"middle\" x=\"525.791\" y=\"-767.029\">Frames: [1]</text>\n",
       "<text font-family=\"Times,serif\" font-size=\"10.00\" text-anchor=\"middle\" x=\"525.791\" y=\"-755.029\">ID: 10</text>\n",
       "<text font-family=\"Times,serif\" font-size=\"10.00\" text-anchor=\"middle\" x=\"525.791\" y=\"-743.029\">Number of features: 8</text>\n",
       "<text font-family=\"Times,serif\" font-size=\"10.00\" text-anchor=\"middle\" x=\"525.791\" y=\"-731.029\">Cumulative Appearance: 1</text>\n",
       "<text font-family=\"Times,serif\" font-size=\"10.00\" text-anchor=\"middle\" x=\"525.791\" y=\"-719.029\"> Appearance: 1</text>\n",
       "<text font-family=\"Times,serif\" font-size=\"10.00\" text-anchor=\"middle\" x=\"525.791\" y=\"-707.029\"> Ki(uM): [2.6]</text>\n",
       "</g>\n",
       "<!-- 11 -->\n",
       "<g class=\"node\" id=\"node5\"><title>11</title>\n",
       "<ellipse cx=\"695.791\" cy=\"-740.029\" fill=\"none\" rx=\"75.5831\" ry=\"50.8235\" stroke=\"green\"/>\n",
       "<text font-family=\"Times,serif\" font-size=\"10.00\" text-anchor=\"middle\" x=\"695.791\" y=\"-767.029\">Frames: [6]</text>\n",
       "<text font-family=\"Times,serif\" font-size=\"10.00\" text-anchor=\"middle\" x=\"695.791\" y=\"-755.029\">ID: 11</text>\n",
       "<text font-family=\"Times,serif\" font-size=\"10.00\" text-anchor=\"middle\" x=\"695.791\" y=\"-743.029\">Number of features: 8</text>\n",
       "<text font-family=\"Times,serif\" font-size=\"10.00\" text-anchor=\"middle\" x=\"695.791\" y=\"-731.029\">Cumulative Appearance: 3</text>\n",
       "<text font-family=\"Times,serif\" font-size=\"10.00\" text-anchor=\"middle\" x=\"695.791\" y=\"-719.029\"> Appearance: 1</text>\n",
       "<text font-family=\"Times,serif\" font-size=\"10.00\" text-anchor=\"middle\" x=\"695.791\" y=\"-707.029\"> Ki(uM): [0.012]</text>\n",
       "</g>\n",
       "<!-- 7 -->\n",
       "<g class=\"node\" id=\"node8\"><title>7</title>\n",
       "<ellipse cx=\"695.791\" cy=\"-602.205\" fill=\"none\" rx=\"75.5831\" ry=\"50.8235\" stroke=\"green\"/>\n",
       "<text font-family=\"Times,serif\" font-size=\"10.00\" text-anchor=\"middle\" x=\"695.791\" y=\"-629.205\">Frames: [3]</text>\n",
       "<text font-family=\"Times,serif\" font-size=\"10.00\" text-anchor=\"middle\" x=\"695.791\" y=\"-617.205\">ID: 7</text>\n",
       "<text font-family=\"Times,serif\" font-size=\"10.00\" text-anchor=\"middle\" x=\"695.791\" y=\"-605.205\">Number of features: 9</text>\n",
       "<text font-family=\"Times,serif\" font-size=\"10.00\" text-anchor=\"middle\" x=\"695.791\" y=\"-593.205\">Cumulative Appearance: 2</text>\n",
       "<text font-family=\"Times,serif\" font-size=\"10.00\" text-anchor=\"middle\" x=\"695.791\" y=\"-581.205\"> Appearance: 1</text>\n",
       "<text font-family=\"Times,serif\" font-size=\"10.00\" text-anchor=\"middle\" x=\"695.791\" y=\"-569.205\"> Ki(uM): [0.17]</text>\n",
       "</g>\n",
       "<!-- 11&#45;&gt;7 -->\n",
       "<g class=\"edge\" id=\"edge2\"><title>11-&gt;7</title>\n",
       "<path d=\"M695.791,-688.839C695.791,-680.565 695.791,-671.914 695.791,-663.426\" fill=\"none\" stroke=\"black\"/>\n",
       "<polygon fill=\"black\" points=\"699.291,-663.189 695.791,-653.189 692.291,-663.189 699.291,-663.189\" stroke=\"black\"/>\n",
       "</g>\n",
       "<!-- 12 -->\n",
       "<g class=\"node\" id=\"node6\"><title>12</title>\n",
       "<ellipse cx=\"865.791\" cy=\"-740.029\" fill=\"none\" rx=\"75.5831\" ry=\"50.8235\" stroke=\"green\"/>\n",
       "<text font-family=\"Times,serif\" font-size=\"10.00\" text-anchor=\"middle\" x=\"865.791\" y=\"-767.029\">Frames: [12]</text>\n",
       "<text font-family=\"Times,serif\" font-size=\"10.00\" text-anchor=\"middle\" x=\"865.791\" y=\"-755.029\">ID: 12</text>\n",
       "<text font-family=\"Times,serif\" font-size=\"10.00\" text-anchor=\"middle\" x=\"865.791\" y=\"-743.029\">Number of features: 8</text>\n",
       "<text font-family=\"Times,serif\" font-size=\"10.00\" text-anchor=\"middle\" x=\"865.791\" y=\"-731.029\">Cumulative Appearance: 1</text>\n",
       "<text font-family=\"Times,serif\" font-size=\"10.00\" text-anchor=\"middle\" x=\"865.791\" y=\"-719.029\"> Appearance: 1</text>\n",
       "<text font-family=\"Times,serif\" font-size=\"10.00\" text-anchor=\"middle\" x=\"865.791\" y=\"-707.029\"> Ki(uM): [320]</text>\n",
       "</g>\n",
       "<!-- Number of features: 9 -->\n",
       "<g class=\"node\" id=\"node10\"><title>Number of features: 9</title>\n",
       "<ellipse cx=\"215.791\" cy=\"-602.205\" fill=\"none\" rx=\"46.8568\" ry=\"18\" stroke=\"black\"/>\n",
       "<text font-family=\"Times,serif\" font-size=\"10.00\" text-anchor=\"middle\" x=\"215.791\" y=\"-599.205\">Number of features: 9</text>\n",
       "</g>\n",
       "<!-- Number of features: 8&#45;&gt;Number of features: 9 -->\n",
       "<g class=\"edge\" id=\"edge7\"><title>Number of features: 8-&gt;Number of features: 9</title>\n",
       "<path d=\"M215.791,-721.826C215.791,-698.762 215.791,-657.567 215.791,-630.31\" fill=\"none\" stroke=\"black\"/>\n",
       "<polygon fill=\"black\" points=\"219.291,-630.268 215.791,-620.268 212.291,-630.268 219.291,-630.268\" stroke=\"black\"/>\n",
       "</g>\n",
       "<!-- 2 -->\n",
       "<g class=\"node\" id=\"node13\"><title>2</title>\n",
       "<ellipse cx=\"695.791\" cy=\"-326.558\" fill=\"none\" rx=\"75.5831\" ry=\"50.8235\" stroke=\"green\"/>\n",
       "<text font-family=\"Times,serif\" font-size=\"10.00\" text-anchor=\"middle\" x=\"695.791\" y=\"-353.558\">Frames: [4]</text>\n",
       "<text font-family=\"Times,serif\" font-size=\"10.00\" text-anchor=\"middle\" x=\"695.791\" y=\"-341.558\">ID: 2</text>\n",
       "<text font-family=\"Times,serif\" font-size=\"10.00\" text-anchor=\"middle\" x=\"695.791\" y=\"-329.558\">Number of features: 11</text>\n",
       "<text font-family=\"Times,serif\" font-size=\"10.00\" text-anchor=\"middle\" x=\"695.791\" y=\"-317.558\">Cumulative Appearance: 1</text>\n",
       "<text font-family=\"Times,serif\" font-size=\"10.00\" text-anchor=\"middle\" x=\"695.791\" y=\"-305.558\"> Appearance: 1</text>\n",
       "<text font-family=\"Times,serif\" font-size=\"10.00\" text-anchor=\"middle\" x=\"695.791\" y=\"-293.558\"> Ki(uM): [0.088]</text>\n",
       "</g>\n",
       "<!-- 7&#45;&gt;2 -->\n",
       "<g class=\"edge\" id=\"edge1\"><title>7-&gt;2</title>\n",
       "<path d=\"M695.791,-551.014C695.791,-505.062 695.791,-436.964 695.791,-388.03\" fill=\"none\" stroke=\"black\"/>\n",
       "<polygon fill=\"black\" points=\"699.291,-387.894 695.791,-377.894 692.291,-387.894 699.291,-387.894\" stroke=\"black\"/>\n",
       "</g>\n",
       "<!-- 8 -->\n",
       "<g class=\"node\" id=\"node9\"><title>8</title>\n",
       "<ellipse cx=\"865.791\" cy=\"-602.205\" fill=\"none\" rx=\"75.5831\" ry=\"50.8235\" stroke=\"green\"/>\n",
       "<text font-family=\"Times,serif\" font-size=\"10.00\" text-anchor=\"middle\" x=\"865.791\" y=\"-629.205\">Frames: [0]</text>\n",
       "<text font-family=\"Times,serif\" font-size=\"10.00\" text-anchor=\"middle\" x=\"865.791\" y=\"-617.205\">ID: 8</text>\n",
       "<text font-family=\"Times,serif\" font-size=\"10.00\" text-anchor=\"middle\" x=\"865.791\" y=\"-605.205\">Number of features: 9</text>\n",
       "<text font-family=\"Times,serif\" font-size=\"10.00\" text-anchor=\"middle\" x=\"865.791\" y=\"-593.205\">Cumulative Appearance: 1</text>\n",
       "<text font-family=\"Times,serif\" font-size=\"10.00\" text-anchor=\"middle\" x=\"865.791\" y=\"-581.205\"> Appearance: 1</text>\n",
       "<text font-family=\"Times,serif\" font-size=\"10.00\" text-anchor=\"middle\" x=\"865.791\" y=\"-569.205\"> Ki(uM): [32.4]</text>\n",
       "</g>\n",
       "<!-- Number of features: 10 -->\n",
       "<g class=\"node\" id=\"node12\"><title>Number of features: 10</title>\n",
       "<ellipse cx=\"215.791\" cy=\"-464.382\" fill=\"none\" rx=\"49.16\" ry=\"18\" stroke=\"black\"/>\n",
       "<text font-family=\"Times,serif\" font-size=\"10.00\" text-anchor=\"middle\" x=\"215.791\" y=\"-461.382\">Number of features: 10</text>\n",
       "</g>\n",
       "<!-- Number of features: 9&#45;&gt;Number of features: 10 -->\n",
       "<g class=\"edge\" id=\"edge8\"><title>Number of features: 9-&gt;Number of features: 10</title>\n",
       "<path d=\"M215.791,-584.003C215.791,-560.939 215.791,-519.744 215.791,-492.487\" fill=\"none\" stroke=\"black\"/>\n",
       "<polygon fill=\"black\" points=\"219.291,-492.444 215.791,-482.444 212.291,-492.444 219.291,-492.444\" stroke=\"black\"/>\n",
       "</g>\n",
       "<!-- 6 -->\n",
       "<g class=\"node\" id=\"node11\"><title>6</title>\n",
       "<ellipse cx=\"799.791\" cy=\"-464.382\" fill=\"none\" rx=\"75.5831\" ry=\"50.8235\" stroke=\"green\"/>\n",
       "<text font-family=\"Times,serif\" font-size=\"10.00\" text-anchor=\"middle\" x=\"799.791\" y=\"-491.382\">Frames: [5]</text>\n",
       "<text font-family=\"Times,serif\" font-size=\"10.00\" text-anchor=\"middle\" x=\"799.791\" y=\"-479.382\">ID: 6</text>\n",
       "<text font-family=\"Times,serif\" font-size=\"10.00\" text-anchor=\"middle\" x=\"799.791\" y=\"-467.382\">Number of features: 10</text>\n",
       "<text font-family=\"Times,serif\" font-size=\"10.00\" text-anchor=\"middle\" x=\"799.791\" y=\"-455.382\">Cumulative Appearance: 1</text>\n",
       "<text font-family=\"Times,serif\" font-size=\"10.00\" text-anchor=\"middle\" x=\"799.791\" y=\"-443.382\"> Appearance: 1</text>\n",
       "<text font-family=\"Times,serif\" font-size=\"10.00\" text-anchor=\"middle\" x=\"799.791\" y=\"-431.382\"> Ki(uM): [0.005]</text>\n",
       "</g>\n",
       "<!-- Number of features: 11 -->\n",
       "<g class=\"node\" id=\"node17\"><title>Number of features: 11</title>\n",
       "<ellipse cx=\"215.791\" cy=\"-326.558\" fill=\"none\" rx=\"49.16\" ry=\"18\" stroke=\"black\"/>\n",
       "<text font-family=\"Times,serif\" font-size=\"10.00\" text-anchor=\"middle\" x=\"215.791\" y=\"-323.558\">Number of features: 11</text>\n",
       "</g>\n",
       "<!-- Number of features: 10&#45;&gt;Number of features: 11 -->\n",
       "<g class=\"edge\" id=\"edge3\"><title>Number of features: 10-&gt;Number of features: 11</title>\n",
       "<path d=\"M215.791,-446.18C215.791,-423.115 215.791,-381.92 215.791,-354.663\" fill=\"none\" stroke=\"black\"/>\n",
       "<polygon fill=\"black\" points=\"219.291,-354.621 215.791,-344.621 212.291,-354.621 219.291,-354.621\" stroke=\"black\"/>\n",
       "</g>\n",
       "<!-- 3 -->\n",
       "<g class=\"node\" id=\"node14\"><title>3</title>\n",
       "<ellipse cx=\"865.791\" cy=\"-326.558\" fill=\"none\" rx=\"75.5831\" ry=\"50.8235\" stroke=\"green\"/>\n",
       "<text font-family=\"Times,serif\" font-size=\"10.00\" text-anchor=\"middle\" x=\"865.791\" y=\"-353.558\">Frames: [11]</text>\n",
       "<text font-family=\"Times,serif\" font-size=\"10.00\" text-anchor=\"middle\" x=\"865.791\" y=\"-341.558\">ID: 3</text>\n",
       "<text font-family=\"Times,serif\" font-size=\"10.00\" text-anchor=\"middle\" x=\"865.791\" y=\"-329.558\">Number of features: 11</text>\n",
       "<text font-family=\"Times,serif\" font-size=\"10.00\" text-anchor=\"middle\" x=\"865.791\" y=\"-317.558\">Cumulative Appearance: 1</text>\n",
       "<text font-family=\"Times,serif\" font-size=\"10.00\" text-anchor=\"middle\" x=\"865.791\" y=\"-305.558\"> Appearance: 1</text>\n",
       "<text font-family=\"Times,serif\" font-size=\"10.00\" text-anchor=\"middle\" x=\"865.791\" y=\"-293.558\"> Ki(uM): [77]</text>\n",
       "</g>\n",
       "<!-- 4 -->\n",
       "<g class=\"node\" id=\"node15\"><title>4</title>\n",
       "<ellipse cx=\"1035.79\" cy=\"-326.558\" fill=\"none\" rx=\"75.5831\" ry=\"50.8235\" stroke=\"green\"/>\n",
       "<text font-family=\"Times,serif\" font-size=\"10.00\" text-anchor=\"middle\" x=\"1035.79\" y=\"-353.558\">Frames: [8]</text>\n",
       "<text font-family=\"Times,serif\" font-size=\"10.00\" text-anchor=\"middle\" x=\"1035.79\" y=\"-341.558\">ID: 4</text>\n",
       "<text font-family=\"Times,serif\" font-size=\"10.00\" text-anchor=\"middle\" x=\"1035.79\" y=\"-329.558\">Number of features: 11</text>\n",
       "<text font-family=\"Times,serif\" font-size=\"10.00\" text-anchor=\"middle\" x=\"1035.79\" y=\"-317.558\">Cumulative Appearance: 1</text>\n",
       "<text font-family=\"Times,serif\" font-size=\"10.00\" text-anchor=\"middle\" x=\"1035.79\" y=\"-305.558\"> Appearance: 1</text>\n",
       "<text font-family=\"Times,serif\" font-size=\"10.00\" text-anchor=\"middle\" x=\"1035.79\" y=\"-293.558\"> Ki(uM): [0.004]</text>\n",
       "</g>\n",
       "<!-- 5 -->\n",
       "<g class=\"node\" id=\"node16\"><title>5</title>\n",
       "<ellipse cx=\"1205.79\" cy=\"-326.558\" fill=\"none\" rx=\"75.5831\" ry=\"50.8235\" stroke=\"green\"/>\n",
       "<text font-family=\"Times,serif\" font-size=\"10.00\" text-anchor=\"middle\" x=\"1205.79\" y=\"-353.558\">Frames: [2]</text>\n",
       "<text font-family=\"Times,serif\" font-size=\"10.00\" text-anchor=\"middle\" x=\"1205.79\" y=\"-341.558\">ID: 5</text>\n",
       "<text font-family=\"Times,serif\" font-size=\"10.00\" text-anchor=\"middle\" x=\"1205.79\" y=\"-329.558\">Number of features: 11</text>\n",
       "<text font-family=\"Times,serif\" font-size=\"10.00\" text-anchor=\"middle\" x=\"1205.79\" y=\"-317.558\">Cumulative Appearance: 1</text>\n",
       "<text font-family=\"Times,serif\" font-size=\"10.00\" text-anchor=\"middle\" x=\"1205.79\" y=\"-305.558\"> Appearance: 1</text>\n",
       "<text font-family=\"Times,serif\" font-size=\"10.00\" text-anchor=\"middle\" x=\"1205.79\" y=\"-293.558\"> Ki(uM): [6.1]</text>\n",
       "</g>\n",
       "<!-- Number of features: 13 -->\n",
       "<g class=\"node\" id=\"node19\"><title>Number of features: 13</title>\n",
       "<ellipse cx=\"215.791\" cy=\"-188.735\" fill=\"none\" rx=\"49.16\" ry=\"18\" stroke=\"black\"/>\n",
       "<text font-family=\"Times,serif\" font-size=\"10.00\" text-anchor=\"middle\" x=\"215.791\" y=\"-185.735\">Number of features: 13</text>\n",
       "</g>\n",
       "<!-- Number of features: 11&#45;&gt;Number of features: 13 -->\n",
       "<g class=\"edge\" id=\"edge4\"><title>Number of features: 11-&gt;Number of features: 13</title>\n",
       "<path d=\"M215.791,-308.356C215.791,-285.292 215.791,-244.097 215.791,-216.84\" fill=\"none\" stroke=\"black\" stroke-width=\"2\"/>\n",
       "<polygon fill=\"black\" points=\"219.291,-216.797 215.791,-206.798 212.291,-216.798 219.291,-216.797\" stroke=\"black\" stroke-width=\"2\"/>\n",
       "</g>\n",
       "<!-- 1 -->\n",
       "<g class=\"node\" id=\"node18\"><title>1</title>\n",
       "<ellipse cx=\"358.791\" cy=\"-188.735\" fill=\"none\" rx=\"75.5831\" ry=\"50.8235\" stroke=\"green\"/>\n",
       "<text font-family=\"Times,serif\" font-size=\"10.00\" text-anchor=\"middle\" x=\"358.791\" y=\"-215.735\">Frames: [7]</text>\n",
       "<text font-family=\"Times,serif\" font-size=\"10.00\" text-anchor=\"middle\" x=\"358.791\" y=\"-203.735\">ID: 1</text>\n",
       "<text font-family=\"Times,serif\" font-size=\"10.00\" text-anchor=\"middle\" x=\"358.791\" y=\"-191.735\">Number of features: 13</text>\n",
       "<text font-family=\"Times,serif\" font-size=\"10.00\" text-anchor=\"middle\" x=\"358.791\" y=\"-179.735\">Cumulative Appearance: 1</text>\n",
       "<text font-family=\"Times,serif\" font-size=\"10.00\" text-anchor=\"middle\" x=\"358.791\" y=\"-167.735\"> Appearance: 1</text>\n",
       "<text font-family=\"Times,serif\" font-size=\"10.00\" text-anchor=\"middle\" x=\"358.791\" y=\"-155.735\"> Ki(uM): [0.179]</text>\n",
       "</g>\n",
       "<!-- Number of features: 15 -->\n",
       "<g class=\"node\" id=\"node21\"><title>Number of features: 15</title>\n",
       "<ellipse cx=\"215.791\" cy=\"-50.9117\" fill=\"none\" rx=\"49.16\" ry=\"18\" stroke=\"black\"/>\n",
       "<text font-family=\"Times,serif\" font-size=\"10.00\" text-anchor=\"middle\" x=\"215.791\" y=\"-47.9117\">Number of features: 15</text>\n",
       "</g>\n",
       "<!-- Number of features: 13&#45;&gt;Number of features: 15 -->\n",
       "<g class=\"edge\" id=\"edge5\"><title>Number of features: 13-&gt;Number of features: 15</title>\n",
       "<path d=\"M215.791,-170.533C215.791,-147.468 215.791,-106.273 215.791,-79.0167\" fill=\"none\" stroke=\"black\" stroke-width=\"2\"/>\n",
       "<polygon fill=\"black\" points=\"219.291,-78.9741 215.791,-68.9741 212.291,-78.9742 219.291,-78.9741\" stroke=\"black\" stroke-width=\"2\"/>\n",
       "</g>\n",
       "<!-- 0 -->\n",
       "<g class=\"node\" id=\"node20\"><title>0</title>\n",
       "<ellipse cx=\"358.791\" cy=\"-50.9117\" fill=\"none\" rx=\"75.5831\" ry=\"50.8235\" stroke=\"green\"/>\n",
       "<text font-family=\"Times,serif\" font-size=\"10.00\" text-anchor=\"middle\" x=\"358.791\" y=\"-77.9117\">Frames: [9]</text>\n",
       "<text font-family=\"Times,serif\" font-size=\"10.00\" text-anchor=\"middle\" x=\"358.791\" y=\"-65.9117\">ID: 0</text>\n",
       "<text font-family=\"Times,serif\" font-size=\"10.00\" text-anchor=\"middle\" x=\"358.791\" y=\"-53.9117\">Number of features: 15</text>\n",
       "<text font-family=\"Times,serif\" font-size=\"10.00\" text-anchor=\"middle\" x=\"358.791\" y=\"-41.9117\">Cumulative Appearance: 1</text>\n",
       "<text font-family=\"Times,serif\" font-size=\"10.00\" text-anchor=\"middle\" x=\"358.791\" y=\"-29.9117\"> Appearance: 1</text>\n",
       "<text font-family=\"Times,serif\" font-size=\"10.00\" text-anchor=\"middle\" x=\"358.791\" y=\"-17.9117\"> Ki(uM): [0.003]</text>\n",
       "</g>\n",
       "</g>\n",
       "</svg>"
      ],
      "text/plain": [
       "<IPython.core.display.SVG object>"
      ]
     },
     "execution_count": 745,
     "metadata": {},
     "output_type": "execute_result"
    }
   ],
   "source": [
    "from IPython.display import SVG, display\n",
    "\n",
    "\n",
    "A.draw('tmp_hsp90_init.svg', prog='dot')\n",
    "SVG('tmp_hsp90_init.svg')"
   ]
  },
  {
   "cell_type": "code",
   "execution_count": 479,
   "metadata": {},
   "outputs": [
    {
     "data": {
      "text/plain": [
       "[0.24861378563774927,\n",
       " 0.4527077499106721,\n",
       " 0.38371406721544715,\n",
       " 0.673372718104557,\n",
       " 0.7266453496128565,\n",
       " 0.9586718127723458,\n",
       " 0.8878422885551057,\n",
       " 0.669199058176855,\n",
       " 0.9767251719585366,\n",
       " 1.0,\n",
       " 0.5600338953611959,\n",
       " 0.17857888608383138,\n",
       " 0.06332889937706661,\n",
       " -0.0]"
      ]
     },
     "execution_count": 479,
     "metadata": {},
     "output_type": "execute_result"
    }
   ],
   "source": [
    "raw = [math.sqrt(math.sqrt(math.sqrt(math.sqrt(math.sqrt(math.sqrt(float(x))))))) for x in affinity.values()]\n",
    "raw = [math.log(float(x)) for x in affinity.values()]\n",
    "\n",
    "max_affinity = max(raw)\n",
    "min_affinity = min(raw)\n",
    "coef = [((x - max_affinity)/(min_affinity-max_affinity)) for x in raw]\n",
    "\n",
    "coef"
   ]
  },
  {
   "cell_type": "code",
   "execution_count": 424,
   "metadata": {
    "collapsed": true
   },
   "outputs": [],
   "source": [
    "def rescale(values, new_min = 0, new_max = 100):\n",
    "    output = []\n",
    "    old_min, old_max = min(values), max(values)\n",
    "\n",
    "    for v in values:\n",
    "        new_v = (new_max - new_min) / (old_max - old_min) * (v - old_min) + new_min\n",
    "        output.append(new_v)\n",
    "\n",
    "    return output"
   ]
  },
  {
   "cell_type": "code",
   "execution_count": 509,
   "metadata": {},
   "outputs": [],
   "source": [
    "tmp = [math.log(float(x)**2) for x  in affinity.values()]"
   ]
  },
  {
   "cell_type": "code",
   "execution_count": 514,
   "metadata": {},
   "outputs": [
    {
     "name": "stdout",
     "output_type": "stream",
     "text": [
      "[0.7513862143622508, 0.547292250089328, 0.6162859327845529, 0.3266272818954431, 0.2733546503871435, 0.04132818722765427, 0.11215771144489431, 0.3308009418231452, 0.023274828041463604, 0.0, 0.43996610463880415, 0.8214211139161687, 0.9366711006229335, 1.0]\n"
     ]
    }
   ],
   "source": [
    "coef = rescale(tmp, new_min=0, new_max=1)\n",
    "print coef\n"
   ]
  },
  {
   "cell_type": "code",
   "execution_count": 519,
   "metadata": {},
   "outputs": [
    {
     "name": "stdout",
     "output_type": "stream",
     "text": [
      "[0.4918151464243269, 0.437553224082902, 0.5268668664815912, 0.7356333503684427, 0.9256982467381211, 0.6827997491649868, 0.5874642177266579, 0.5282703887945069, 0.686056424622279, 1.0, 0.5037144549786706, 0.6153477714217886, 0.06328178939154341, 0.0]\n"
     ]
    }
   ],
   "source": [
    "print rescale([x for x  in affinity_scoring.values()], new_min=0, new_max=1)"
   ]
  },
  {
   "cell_type": "code",
   "execution_count": 511,
   "metadata": {},
   "outputs": [],
   "source": [
    "calculated_affinity = {}\n",
    "normalized_scoring = rescale([x for x  in affinity_scoring.values()], new_min=0, new_max=1)\n",
    "for key, value in affinity.items():\n",
    "    calculated_affinity[key] = (value*affinity[1])/coef[1]"
   ]
  },
  {
   "cell_type": "code",
   "execution_count": 512,
   "metadata": {},
   "outputs": [
    {
     "data": {
      "text/plain": [
       "{0: 186.08031343979016,\n",
       " 1: 14.9323708315881,\n",
       " 2: 35.03363925872593,\n",
       " 3: 0.9763473236038375,\n",
       " 4: 0.505403320453751,\n",
       " 5: 0.02871609775305404,\n",
       " 6: 0.06891863460732969,\n",
       " 7: 1.0280362995593346,\n",
       " 8: 0.022972878202443234,\n",
       " 9: 0.017229658651832423,\n",
       " 10: 3.9628214899214567,\n",
       " 11: 442.2279053970322,\n",
       " 12: 1837.8302561954583,\n",
       " 13: 4020.2536854275654}"
      ]
     },
     "execution_count": 512,
     "metadata": {},
     "output_type": "execute_result"
    }
   ],
   "source": [
    "calculated_affinity"
   ]
  },
  {
   "cell_type": "code",
   "execution_count": null,
   "metadata": {
    "collapsed": true
   },
   "outputs": [],
   "source": []
  },
  {
   "cell_type": "code",
   "execution_count": null,
   "metadata": {
    "collapsed": true
   },
   "outputs": [],
   "source": []
  },
  {
   "cell_type": "code",
   "execution_count": null,
   "metadata": {
    "collapsed": true
   },
   "outputs": [],
   "source": [
    "#coef_vector = [1,2,3,14,12,13,4,7,11,10,8,9,6,5]"
   ]
  },
  {
   "cell_type": "code",
   "execution_count": 513,
   "metadata": {},
   "outputs": [
    {
     "data": {
      "text/plain": [
       "[0.09586718127723458,\n",
       " 0.542948166712363,\n",
       " 0.06666666666666667,\n",
       " 0.5273357471227677,\n",
       " 0.767912154390076,\n",
       " 0.31671327334176436,\n",
       " 0.7599960419679427,\n",
       " 0.06771129481842805,\n",
       " 0.22828277704571592,\n",
       " 0.17169430830688193,\n",
       " 0.7599960419679427,\n",
       " 0.5077646761219837,\n",
       " 0.528375694668744,\n",
       " 0.5983799315888935,\n",
       " 0.10154976368625276,\n",
       " 0.06666666666666667,\n",
       " 0.14818616050189823,\n",
       " 0.333529420405415,\n",
       " 0.051476850628988845,\n",
       " 0.3797569374259421,\n",
       " 0.1549008349083932,\n",
       " 0.007916112422133326,\n",
       " 0.051476850628988845,\n",
       " 0.051476850628988845,\n",
       " 0.11398370160832488,\n",
       " 0.06250685097933603,\n",
       " 0.3163627262774852]"
      ]
     },
     "execution_count": 513,
     "metadata": {},
     "output_type": "execute_result"
    }
   ],
   "source": [
    "coef_vector = [0]*len(ph4_fingerprint_dict[0])\n",
    "for index, value in ph4_fingerprint_dict.items():\n",
    "    tmp_coef = [(a*coef[index])/sum(value) for a in value]\n",
    "    #tmp_coef = [a*coef[index] for a in value]\n",
    "    coef_vector = [a+b for a,b in zip(coef_vector,tmp_coef)]\n",
    "coef_vector"
   ]
  },
  {
   "cell_type": "code",
   "execution_count": 516,
   "metadata": {},
   "outputs": [
    {
     "name": "stdout",
     "output_type": "stream",
     "text": [
      "32.4\n",
      "4.41562836664\n",
      "\n",
      "2.6\n",
      "4.21679200489\n",
      "\n",
      "6.1\n",
      "4.54407122653\n",
      "\n",
      "0.17\n",
      "5.30907118082\n",
      "\n",
      "0.088\n",
      "6.00554139159\n",
      "\n",
      "0.005\n",
      "5.11546873203\n",
      "\n",
      "0.012\n",
      "4.76612301411\n",
      "\n",
      "0.179\n",
      "4.54921426715\n",
      "\n",
      "0.004\n",
      "5.12740243197\n",
      "\n",
      "0.003\n",
      "6.27781133066\n",
      "\n",
      "0.69\n",
      "4.4592319678\n",
      "\n",
      "77\n",
      "4.86829898079\n",
      "\n",
      "320\n",
      "2.84531883976\n",
      "\n",
      "700\n",
      "2.61343024783\n",
      "\n"
     ]
    }
   ],
   "source": [
    "tmp = affinity.values()\n",
    "affinity_scoring = {}\n",
    "for index, value in ph4_fingerprint_dict.items():\n",
    "    print tmp[index]\n",
    "    affinity_scoring[index] = sum([a*b for a,b in zip(coef_vector,value)])\n",
    "    print sum([a*b for a,b in zip(coef_vector,value)])\n",
    "    print"
   ]
  },
  {
   "cell_type": "code",
   "execution_count": 455,
   "metadata": {},
   "outputs": [
    {
     "name": "stdout",
     "output_type": "stream",
     "text": [
      "-0.84724268108\n",
      "0.428595077498\n"
     ]
    }
   ],
   "source": [
    "print affinity_scoring[11]\n",
    "print math.exp(affinity_scoring[11])"
   ]
  },
  {
   "cell_type": "code",
   "execution_count": 484,
   "metadata": {
    "scrolled": true
   },
   "outputs": [
    {
     "name": "stdout",
     "output_type": "stream",
     "text": [
      "9\n",
      "0.003\n",
      "6.27781133066\n",
      "\n",
      "8\n",
      "0.004\n",
      "5.12740243197\n",
      "\n",
      "5\n",
      "0.005\n",
      "5.11546873203\n",
      "\n",
      "6\n",
      "0.012\n",
      "4.76612301411\n",
      "\n",
      "4\n",
      "0.088\n",
      "6.00554139159\n",
      "\n",
      "3\n",
      "0.17\n",
      "5.30907118082\n",
      "\n",
      "7\n",
      "0.179\n",
      "4.54921426715\n",
      "\n",
      "10\n",
      "0.69\n",
      "4.4592319678\n",
      "\n",
      "1\n",
      "2.6\n",
      "4.21679200489\n",
      "\n",
      "2\n",
      "6.1\n",
      "4.54407122653\n",
      "\n",
      "0\n",
      "32.4\n",
      "4.41562836664\n",
      "\n",
      "11\n",
      "77\n",
      "4.86829898079\n",
      "\n",
      "12\n",
      "320\n",
      "2.84531883976\n",
      "\n",
      "13\n",
      "700\n",
      "2.61343024783\n",
      "\n"
     ]
    }
   ],
   "source": [
    "for x in sorted(affinity.keys(), key=lambda k: affinity[k]):\n",
    "    print x\n",
    "    print affinity[x]\n",
    "    print affinity_scoring[x]\n",
    "    print "
   ]
  },
  {
   "cell_type": "code",
   "execution_count": 517,
   "metadata": {},
   "outputs": [
    {
     "name": "stdout",
     "output_type": "stream",
     "text": [
      "[9, 8, 5, 6, 4, 3, 7, 10, 1, 2, 0, 11, 12, 13]\n",
      "[9, 4, 3, 8, 5, 11, 6, 7, 2, 10, 0, 1, 12, 13]\n"
     ]
    }
   ],
   "source": [
    "print [x for x in sorted(affinity.keys(), key=lambda k: affinity[k])]\n",
    "print [x for x in sorted(affinity_scoring.keys(), key=lambda k: affinity_scoring[k], reverse=True)]"
   ]
  },
  {
   "cell_type": "code",
   "execution_count": 520,
   "metadata": {},
   "outputs": [
    {
     "data": {
      "text/plain": [
       "{0: 4.415628366635007,\n",
       " 1: 4.216792004888924,\n",
       " 2: 4.544071226533612,\n",
       " 3: 5.309071180818198,\n",
       " 4: 6.005541391585905,\n",
       " 5: 5.115468732030299,\n",
       " 6: 4.766123014105835,\n",
       " 7: 4.549214267146395,\n",
       " 8: 5.127402431968928,\n",
       " 9: 6.277811330660076,\n",
       " 10: 4.459231967800339,\n",
       " 11: 4.8682989807884365,\n",
       " 12: 2.8453188397610583,\n",
       " 13: 2.6134302478268503}"
      ]
     },
     "execution_count": 520,
     "metadata": {},
     "output_type": "execute_result"
    }
   ],
   "source": [
    "affinity_scoring"
   ]
  },
  {
   "cell_type": "code",
   "execution_count": null,
   "metadata": {},
   "outputs": [],
   "source": []
  },
  {
   "cell_type": "code",
   "execution_count": null,
   "metadata": {
    "collapsed": true
   },
   "outputs": [],
   "source": []
  },
  {
   "cell_type": "code",
   "execution_count": null,
   "metadata": {
    "collapsed": true
   },
   "outputs": [],
   "source": []
  },
  {
   "cell_type": "code",
   "execution_count": null,
   "metadata": {
    "collapsed": true
   },
   "outputs": [],
   "source": []
  },
  {
   "cell_type": "code",
   "execution_count": null,
   "metadata": {
    "collapsed": true
   },
   "outputs": [],
   "source": []
  },
  {
   "cell_type": "code",
   "execution_count": null,
   "metadata": {
    "collapsed": true
   },
   "outputs": [],
   "source": []
  },
  {
   "cell_type": "code",
   "execution_count": 701,
   "metadata": {
    "collapsed": true
   },
   "outputs": [],
   "source": [
    "def rescale(values, new_min = 0, new_max = 1):\n",
    "    old_min, old_max = min(values), max(values)\n",
    "    return [(new_max - new_min) / (old_max - old_min) * (v - old_min) + new_min for v in values]"
   ]
  },
  {
   "cell_type": "code",
   "execution_count": 702,
   "metadata": {},
   "outputs": [
    {
     "data": {
      "text/plain": [
       "{0: 0.004, 1: 0.003, 2: 0.69, 3: 77, 4: 320, 5: 700}"
      ]
     },
     "execution_count": 702,
     "metadata": {},
     "output_type": "execute_result"
    }
   ],
   "source": [
    "affinity"
   ]
  },
  {
   "cell_type": "code",
   "execution_count": 709,
   "metadata": {},
   "outputs": [
    {
     "data": {
      "text/plain": [
       "[0.999998571422449,\n",
       " 1.0,\n",
       " 0.999018567222431,\n",
       " 0.8900038143020613,\n",
       " 0.542859469397726,\n",
       " 0.0]"
      ]
     },
     "execution_count": 709,
     "metadata": {},
     "output_type": "execute_result"
    }
   ],
   "source": [
    "tmp = [math.log(float(x)) for x  in affinity.values()]\n",
    "tmp = affinity.values()\n",
    "coef = rescale(tmp, new_min=1, new_max=0)\n",
    "coef"
   ]
  },
  {
   "cell_type": "code",
   "execution_count": 710,
   "metadata": {},
   "outputs": [
    {
     "data": {
      "text/plain": [
       "[4.431880422344667,\n",
       " 1.0,\n",
       " 3.4328618551222365,\n",
       " 4.431880422344667,\n",
       " 1.999018567222431,\n",
       " 3.8890209529469413,\n",
       " 0.8900038143020613,\n",
       " 2.8900023857245105,\n",
       " 2.8900023857245105,\n",
       " 3.8890209529469413,\n",
       " 2.8900023857245105,\n",
       " 1.0,\n",
       " 1.999018567222431,\n",
       " 1.0,\n",
       " 1.0,\n",
       " 1.542858040820175,\n",
       " 2.99901713864488,\n",
       " 3.4318804223446673,\n",
       " 1.4328632836997874,\n",
       " 0.542859469397726,\n",
       " 0.542859469397726]"
      ]
     },
     "execution_count": 710,
     "metadata": {},
     "output_type": "execute_result"
    }
   ],
   "source": [
    "coef_vector = [0]*len(ph4_fingerprint_dict[0])\n",
    "for index, value in ph4_fingerprint_dict.items():\n",
    "    tmp_coef = [a*coef[index] for a in value]\n",
    "    coef_vector = [a+b for a,b in zip(coef_vector,tmp_coef)]\n",
    "coef_vector"
   ]
  },
  {
   "cell_type": "code",
   "execution_count": 711,
   "metadata": {},
   "outputs": [
    {
     "data": {
      "text/plain": [
       "[0.7386467370574445,\n",
       " 1.0,\n",
       " 0.8582154637805591,\n",
       " 0.7386467370574445,\n",
       " 0.9995092836112155,\n",
       " 0.7778041905893882,\n",
       " 0.8900038143020613,\n",
       " 0.9633341285748368,\n",
       " 0.9633341285748368,\n",
       " 0.9722552382367353,\n",
       " 0.9633341285748368,\n",
       " 1.0,\n",
       " 0.9995092836112155,\n",
       " 1.0,\n",
       " 1.0,\n",
       " 0.7714290204100875,\n",
       " 0.9996723795482932,\n",
       " 0.6863760844689335,\n",
       " 0.4776210945665958,\n",
       " 0.271429734698863,\n",
       " 0.542859469397726]"
      ]
     },
     "execution_count": 711,
     "metadata": {},
     "output_type": "execute_result"
    }
   ],
   "source": [
    "for index, value in enumerate(global_ph4_interaction_list):\n",
    "    coef_vector[index] = coef_vector[index]/value[1]\n",
    "coef_vector"
   ]
  },
  {
   "cell_type": "code",
   "execution_count": 712,
   "metadata": {},
   "outputs": [
    {
     "data": {
      "text/plain": [
       "{0: 9.433048236873397,\n",
       " 1: 13.974261699216807,\n",
       " 2: 6.9124199341806705,\n",
       " 3: 9.029571745783672,\n",
       " 4: 5.0852243414376535,\n",
       " 5: 3.6905245784386698}"
      ]
     },
     "execution_count": 712,
     "metadata": {},
     "output_type": "execute_result"
    }
   ],
   "source": [
    "affinity_scoring = {}\n",
    "for index, value in ph4_fingerprint_dict.items():\n",
    "    affinity_scoring[index] = sum([a*b for a,b in zip(coef_vector,value)])\n",
    "affinity_scoring"
   ]
  },
  {
   "cell_type": "code",
   "execution_count": 713,
   "metadata": {},
   "outputs": [
    {
     "data": {
      "text/plain": [
       "[0.999998571422449,\n",
       " 1.0,\n",
       " 0.999018567222431,\n",
       " 0.8900038143020613,\n",
       " 0.542859469397726,\n",
       " 0.0]"
      ]
     },
     "execution_count": 713,
     "metadata": {},
     "output_type": "execute_result"
    }
   ],
   "source": [
    "coef"
   ]
  },
  {
   "cell_type": "code",
   "execution_count": 714,
   "metadata": {},
   "outputs": [
    {
     "name": "stdout",
     "output_type": "stream",
     "text": [
      "[1, 0, 2, 3, 4, 5]\n",
      "[1, 0, 3, 2, 4, 5]\n"
     ]
    }
   ],
   "source": [
    "print [x for x in sorted(affinity.keys(), key=lambda k: affinity[k])]\n",
    "print [x for x in sorted(affinity_scoring.keys(), key=lambda k: affinity_scoring[k], reverse=True)]"
   ]
  },
  {
   "cell_type": "code",
   "execution_count": 715,
   "metadata": {},
   "outputs": [
    {
     "name": "stdout",
     "output_type": "stream",
     "text": [
      "[0.5584082509102691, 1.0, 0.3133000501570785, 0.5191738280199265, 0.13562188012186868, 0.0]\n"
     ]
    }
   ],
   "source": [
    "calculated_affinity = {}\n",
    "normalized_scoring = rescale([x for x  in affinity_scoring.values()], new_min=0, new_max=1)\n",
    "print normalized_scoring\n",
    "for key, value in affinity.items():\n",
    "    calculated_affinity[key] = (normalized_scoring[key]*affinity[1])/coef[1]"
   ]
  },
  {
   "cell_type": "code",
   "execution_count": 716,
   "metadata": {},
   "outputs": [
    {
     "data": {
      "text/plain": [
       "[(1, 0.003, 0.003),\n",
       " (0, 0.004, 0.0016752247527308075),\n",
       " (2, 0.69, 0.0009399001504712355),\n",
       " (3, 77, 0.0015575214840597795),\n",
       " (4, 320, 0.00040686564036560604),\n",
       " (5, 700, 0.0)]"
      ]
     },
     "execution_count": 716,
     "metadata": {},
     "output_type": "execute_result"
    }
   ],
   "source": [
    "[(x,affinity[x],calculated_affinity[x]) for x in sorted(affinity.keys(), key=lambda k: affinity[k])]"
   ]
  },
  {
   "cell_type": "code",
   "execution_count": null,
   "metadata": {},
   "outputs": [],
   "source": []
  },
  {
   "cell_type": "code",
   "execution_count": 616,
   "metadata": {},
   "outputs": [
    {
     "data": {
      "text/plain": [
       "[3.4781584227982836,\n",
       " 0.9555114450274363,\n",
       " 1.8082887711792655,\n",
       " -1.7719568419318752,\n",
       " -2.430418464503931,\n",
       " -5.298317366548036,\n",
       " -4.422848629194137,\n",
       " -1.720369473141382,\n",
       " -5.521460917862246,\n",
       " -5.809142990314028,\n",
       " -0.37106368139083207,\n",
       " 4.343805421853684,\n",
       " 5.768320995793772,\n",
       " 6.551080335043404]"
      ]
     },
     "execution_count": 616,
     "metadata": {},
     "output_type": "execute_result"
    }
   ],
   "source": [
    "tmp"
   ]
  },
  {
   "cell_type": "code",
   "execution_count": null,
   "metadata": {
    "collapsed": true
   },
   "outputs": [],
   "source": []
  }
 ],
 "metadata": {
  "kernelspec": {
   "display_name": "Python 2",
   "language": "python",
   "name": "python2"
  },
  "language_info": {
   "codemirror_mode": {
    "name": "ipython",
    "version": 2
   },
   "file_extension": ".py",
   "mimetype": "text/x-python",
   "name": "python",
   "nbconvert_exporter": "python",
   "pygments_lexer": "ipython2",
   "version": "2.7.13"
  }
 },
 "nbformat": 4,
 "nbformat_minor": 2
}
